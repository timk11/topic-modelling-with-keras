{
 "cells": [
  {
   "cell_type": "markdown",
   "metadata": {},
   "source": [
    "This is still a work in progress, so comments are not yet complete."
   ]
  },
  {
   "cell_type": "code",
   "execution_count": 1,
   "metadata": {},
   "outputs": [],
   "source": [
    "from sklearn.feature_extraction.text import TfidfVectorizer\n",
    "import pandas as pd\n",
    "import numpy as np"
   ]
  },
  {
   "cell_type": "code",
   "execution_count": 2,
   "metadata": {},
   "outputs": [],
   "source": [
    "import keras\n",
    "from keras.models import Sequential\n",
    "from keras.layers import Dense"
   ]
  },
  {
   "cell_type": "code",
   "execution_count": 3,
   "metadata": {},
   "outputs": [
    {
     "data": {
      "text/html": [
       "<div>\n",
       "<style scoped>\n",
       "    .dataframe tbody tr th:only-of-type {\n",
       "        vertical-align: middle;\n",
       "    }\n",
       "\n",
       "    .dataframe tbody tr th {\n",
       "        vertical-align: top;\n",
       "    }\n",
       "\n",
       "    .dataframe thead th {\n",
       "        text-align: right;\n",
       "    }\n",
       "</style>\n",
       "<table border=\"1\" class=\"dataframe\">\n",
       "  <thead>\n",
       "    <tr style=\"text-align: right;\">\n",
       "      <th></th>\n",
       "      <th>row_id</th>\n",
       "      <th>doc_text</th>\n",
       "    </tr>\n",
       "  </thead>\n",
       "  <tbody>\n",
       "    <tr>\n",
       "      <th>0</th>\n",
       "      <td>0</td>\n",
       "      <td>For more information, visit http://www.wor...</td>\n",
       "    </tr>\n",
       "    <tr>\n",
       "      <th>1</th>\n",
       "      <td>1</td>\n",
       "      <td>...</td>\n",
       "    </tr>\n",
       "    <tr>\n",
       "      <th>2</th>\n",
       "      <td>2</td>\n",
       "      <td>...</td>\n",
       "    </tr>\n",
       "    <tr>\n",
       "      <th>3</th>\n",
       "      <td>3</td>\n",
       "      <td>71399\\n\\nProcur...</td>\n",
       "    </tr>\n",
       "    <tr>\n",
       "      <th>4</th>\n",
       "      <td>4</td>\n",
       "      <td>90189\\n\\n\\n\\n\\nExecu...</td>\n",
       "    </tr>\n",
       "  </tbody>\n",
       "</table>\n",
       "</div>"
      ],
      "text/plain": [
       "   row_id                                           doc_text\n",
       "0       0      For more information, visit http://www.wor...\n",
       "1       1                                                ...\n",
       "2       2                                                ...\n",
       "3       3                                 71399\\n\\nProcur...\n",
       "4       4                            90189\\n\\n\\n\\n\\nExecu..."
      ]
     },
     "execution_count": 3,
     "metadata": {},
     "output_type": "execute_result"
    }
   ],
   "source": [
    "df = pd.read_csv(\"train_values.csv\")\n",
    "df.head()"
   ]
  },
  {
   "cell_type": "code",
   "execution_count": 4,
   "metadata": {},
   "outputs": [
    {
     "data": {
      "text/plain": [
       "'    For more information, visit http://www.worldbank.org/prospects                                                                  98944\\n\\n    Taking Stock\\n   ECB unveiled 1.1 trillion asset-purchase program. The European Central Bank announced it will inject about 1.1\\n    trillion ($1.3 trillion) into financial markets through an asset-purchase program in a bid to counter weaker than expected\\n    inflation dynamics. Beginning March this year, the ECB will buy a total of 60 billion ($69 billion) a month of public and\\n    private sector securities until end-September 2016. These purchases may continue beyond September 2016 unless there\\n    are clear signs of a sustained adjustment in the path of infl ation towards ECBs target of close to 2 percent. Following\\n    the announcement, European stocks rallied, while the euro weakened to an 11-year low against the dollar.\\n\\n   World Bank released its January 2015 Commodity Markets Outlook. Prices of most commodities are expected to\\n    continue declining in 2015. Due to the continued growth in unconventional oil production, decline in demand, and\\n    appreciation of the U.S. dollar, oil prices are expected to average $53 in 2015, 45 percent lower than in 2014. Similarly,\\n    metal prices are forecast to drop by more than 5 percent in 2015, while prices of precious metals are expected to decline\\n    by 3 percent in 2015, on top of the 12 percent decline seen in 2014. Food commodity prices, which have declined 20\\n    percent since 2011, are projected to drop by a further 4 percent in 2015, due to good crop prospects.\\n\\n   Chinese GDP expanded 7.4 percent in 2014. Preliminary figures showed that Chinas GDP for the year 2014 was up\\n    7.4 percent (Figure 2), broadly in line with the governments target of 7.5 percent and higher than the 7.3 percent consensus\\n    estimate. On a quarterly basis, GDP grew 7.3 percent (y/y) in Q4 unchanged from Q3, stronger than the 7.2 percent rise\\n    forecast by economists. In a separate data release, growth in industrial production accelerated to 7.9 percent (y/y) in\\n    December from 7.2 percent in November. Retails sales growth also quickened unexpectedly to 11.9 percent (y/y) in\\n    December from 11.7 percent in November.\\n\\n   U.K. jobless rate at 6-year low. The U.K. jobless rate fell from 6 percent in the June to August period to 5.8 percent\\n    during the September to November period, the lowest rate since August 2008, beating economists forecast of 5.9 percent.\\n    At the same time, in the three months to November, average weekly earnings including bonuses rose 1.7 percent from last\\n    year, in line with forecasts.\\n\\n\\n\\n             FIGURE 1 European stocks rallied on ECB QE                          FIGURE 2 Chinese GDP growth averaged 7.4 percent in\\n             announcement                                                        2014\\n            Index = 100 on Jan 2, 2014                                           Quarterly percent change, year-on-year\\n            115\\n                     World stocks                                                14\\n            110      European stocks                                             12\\n            105                                                                  10\\n                                                                                  8\\n            100\\n                                                                                  6\\n             95\\n                                                                                  4\\n             90\\n                                                                                  2\\n                                                               Nov-14\\n                  Jan-14\\n\\n                           Mar-14\\n\\n\\n                                    May-14\\n\\n\\n                                             Jul-14\\n\\n\\n\\n\\n                                                                        Jan-15\\n                                                      Sep-14\\n\\n\\n\\n\\n                                                                                  0\\n                                                                                  2008Q1 2009Q3 2011Q1 2012Q3 2014Q1\\n             Source: Bloomberg.                                                   Source: Source: National Bureau of Statistics of China.\\n\\n\\n\\n    Produced by DECPG.\\n\\n    Number 247 | January 23, 2015\\nWeekly Insight: Subdued Growth in Developing\\nCountries\\nGrowth in developing countries has been weak in recent years. In large middle-income countries, cyclical factors, policy tightening and\\npolitical tensions have interacted with a trend slowdown in productivity growth. As the forces responsible for weak growth in developing\\ncountries recede, growth levels are expected to pick up in the medium-term, although they are likely to remain below their pre-crisis\\nlevels.\\n\\nLong-term growth has been on a secular decline in developing countries, especially those in East Asia and Eastern Europe.\\nPopulation growth is slowing, as is growth of the working-age share of the population. Although potential growth is difficult to measure,\\ndifferent methodologies suggest that it began to slow during the global financial crisis and has continued to fall in subsequent years\\n(Figure 3). This trend largely reflects weak global demand and sluggish domestic productivity growthpartly as a result of limited\\nreallocation of labor out of low-productivity into high-productivity sectors in some countries. Investment, and in some countries, the labor\\nforce, have grown slowly. In a number of large developing countries, a shrinking demographic dividend, as the population ages and\\ngrowth of the working-age share of the population stagnates or begins to decline, will further depress potential growth.\\n\\nDivergence in the strength of growth between low-income countries and middle-income countries is apparent. While growth\\nrates of low-income countries have been consistent with historical averages in recent years, an increasing share of middle-income\\ncountries have experienced below-trend growth since 2010. The weakness in middle-income countries in part reflects downturns in\\nseveral of the largest economies. China is in the midst of a managed slowdown. Brazil experienced a sharp recession in 2014 on the\\nfall in commodity prices, severe droughts in agricultural regions, election uncertainty, and contracting investment. Growth in Turkey\\nslowed a full percentage point in 2014, to 3.1 percent. Spillovers from the Russia-Ukraine conflict negatively impacted economies across\\nEurope and Central Asia. In low-income countries, by contrast, growth remained robust at about 6 percent in 2014, supported by rising\\npublic investment, expansion of service sectors, solid harvests, and strong capital inflows.\\n\\nProspects are improving for developing countries. Despite setbacks in several large middle-income economies, developing\\ncountries as a whole will experience a pickup during the forecast period as domestic headwinds subside and recovery strengthens in\\nhigh-income countries. Growth is expected to accelerate from 4.4 percent in 2014 to 4.8 percent in 2015 and 5.3 percent in 2016. The\\nincrease will be driven in part by a turnaround in middle-income economies, including the largest ones. The possible impact of a\\nsustained slowdown in China on the rest of East Asia will be offset by strong growth in India (where economic reforms appear to be\\nbearing fruit) and Mexico, together with a robust recovery in Brazil starting in 2016. These improvements should help drive down the\\nshare of middle-income countries with below-historical-trend growth (Figure 4). Still, growth levels will likely remain well below their pre-\\ncrisis peaks.\\n\\n\\n       FIGURE 3 Potential growth in developing countries has                  FIGURE 4 Growth in middle-income countries has been\\n       slowed                                                                 increasingly below historical averages\\n\\n                                      Production function approach\\n         Percent                                                                Percent                               High-income countries\\n                                      Hodrick-Prescott filter\\n       7.0                                                                                                            Low-income countries\\n                                                                              100\\n                                                                                                                      Middle-income countries\\n       6.0\\n                                                                               80\\n       5.0\\n\\n       4.0                                                                     60\\n\\n       3.0                                                                     40\\n       2.0\\n                                                                               20\\n       1.0\\n                                                                                0\\n       0.0\\n                                                                                    2000        03          06         09          12        15-17\\n             2000    02         04    06      08       10       12       14\\n                                                                                                                                            average\\n       Source: World Bank.                                                    Source: World Bank.\\n       Note: Hodrick-Prescott filter applied to quarterly, seasonally-        Note: For each year, figure shows share of countries in which growth is\\n       adjusted real GDP levels.                                              slower than average growth over the period 1990-2007.\\n                      Dealogic, JPMorgan Chase.\\nNumber 247 | January 23, 2015\\nMajor Data Releases\\n\\nFri, 16 Jan - Thu, 22 Jan 2015                                                                                                Upcoming releases: Fri, 23 Jan - Thu, 29 Jan 2015\\nCountry            Date    Indicator                            Period       Actual        Forecast Previous                  Country          Date       Indicator                               Period Previous\\nEurozone              1/16/2015 CPI (Y/Y)                            DEC         -0.2%       -0.1%     0.3%                   Eurozone              1/23/2015   PMI Manufacturing                   JAN       50.6\\nUnited States         1/16/2015 CPI (Y/Y)                            DEC         0.8%        0.6%      1.3%                   Malaysia              1/25/2015   Unemployment Rate                   NOV       2.7%\\nJapan                 1/18/2015 Industrial Production (M/M)          NOV         -0.5 %      -0.6 %    0.4 %                  Mexico                1/26/2015   Retail Sales (Y/Y)                  NOV       5.6%\\nChina                 1/19/2015 GDP (Y/Y)                            Q4          7.3%        7.2%      7.3%                   United Kingdom        1/27/2015   GDP (Y/Y)                           Q4        2.6%\\nChina                 1/20/2015 Retail Sales (Y/Y)                   JAN         11.9 %     11.7%     11.7 %                  Philippines           1/28/2015   GDP (Q-o-Q)                         Q4        0.4%\\nPoland                1/21/2015 Industrial Production (Y/Y)          DEC         8.4 %        6%       0.3 %                  Germany               1/29/2015   Unemployment Rate                   DEC       5.0%\\n\\n\\n\\n\\n        Economic Developments\\n        indicators expressed as %ch y/y, except Industrial Production quarterly figures are %ch q/q, annualized\\n\\n                                                                                                      2013               2014               2014\\n                                                              2010     2011        2012       2013      Q3      Q4      Q1    Q2             Feb    Mar     Apr    May      Jun      Jul   Aug    Sep      Oct    Nov\\n        Industrial production, S.A.\\n         World                                                 8.9         4.7       3.0        2.6     4.1   4.3      3.7       2.2          3.9     3.8    3.6     3.5     3.5 3.4        2.6    3.5     3.2     3.1\\n          High Income Countries                                7.8         2.7       0.9        0.6     3.1   3.6      3.3       0.0          3.2     3.0    2.9     2.3     2.3 2.4        1.0    1.8     1.8     1.5\\n          Developing Countries                                10.9         7.8       6.3        5.5     5.5   5.3      4.3       5.3          4.8     5.0    4.7     5.3     5.3 4.9        4.8    5.9     5.2     5.2\\n           East Asia and Pacific                              14.2        11.3       9.0        8.9    10.5   9.9      4.5       8.1          7.6     7.5    7.9     8.2     8.6 7.8        6.6    7.6     7.3     6.9\\n              East Asia x. China                               8.9         0.7       4.1        4.7     3.7   5.6     -2.2       8.2          2.7     0.6    2.6     3.9     4.7 1.1        4.7    5.7     5.8     5.5\\n           Europe and Central Asia                            10.8        13.1       9.1        2.2     7.6   3.9      5.2       0.9          4.3     4.8    3.6     5.8     3.7 3.8        2.6    2.6     2.6     2.0\\n           Latin America and Caribbean                         6.3         2.6      -0.1        1.0    -2.6 -3.1       0.1      -3.2          0.7     1.6   -2.2    -1.3    -3.1 -1.8      -1.1   -1.4    -0.8    -1.5\\n           Middle East and N. Africa                           2.1        -8.6       5.8       -6.9   -28.6 -11.9     16.2       4.0         -6.5    -9.0   -8.8    -7.2    -4.0 -1.9      10.1   17.8    11.9    14.0\\n           South Asia                                          9.3         5.4       1.1        1.7    10.0 -3.4       7.1       5.4         -1.0     0.1    4.2     5.3     4.5 1.9        2.3    3.2    -2.7     4.8\\n           Sub-Saharan Africa                                  4.7         3.3       3.4        1.0    -7.4   8.5     -5.6      -1.7          1.6     1.1   -2.2    -3.5     0.6 -7.8      -0.6    8.4     2.1    -1.1\\n        Inflation, S.A. 1\\n           High Income Countries                               1.7         2.8      2.0        1.6     1.7      1.4    1.4       2.0         1.3     1.5     2.0    2.0      2.0 1.9        1.7    1.7     1.7     1.5\\n           Developing Countries                                5.8         7.5      6.5        7.4     7.6      7.9    7.5       7.7         7.3     7.5     7.5    7.9      7.8 8.0        8.1    7.9     7.8     7.8\\n            East Asia and Pacific                              3.4         5.6      2.8        3.0     3.3      3.4    2.9       2.9         2.7     2.9     2.5    3.1      3.0 2.8        2.5    2.2     2.1     2.2\\n            Europe and Central Asia                            7.3         8.2      8.7        6.2     6.2      5.5    5.8       7.4         5.7     6.2     7.1    7.6      7.5 7.7        8.1    8.1     8.3     8.4\\n            Latin America and Caribbean                        6.4         7.5      6.7        9.8    10.3     11.7   12.5      13.9        12.4    12.9    13.6   13.9     14.2 15.0      15.5   16.0    16.3    16.7\\n            Middle East and N. Africa                          7.0        11.9     14.4       18.6    19.9     16.8   13.2       9.7        12.7    11.3    10.1    9.8      9.1 9.9       10.2   10.2    10.6    10.6\\n            South Asia                                        10.2         9.8      9.5        9.6     9.3     10.1    8.2       8.0         7.9     8.1     8.4    8.1      7.4 7.8        7.5    6.5     5.5     4.4\\n            Sub-Saharan Africa                                 7.6        10.1     11.3        8.2     7.4      8.3    8.9       9.7         8.8     9.0     9.2    9.7     10.1 10.1      10.2    9.1     7.8     7.6\\n        1\\n            Inflation is calculated as the GDP-weighted average for all groups.\\n\\n        Trade and Finance\\n        indicators expressed as %ch y/y, except International Reserves are %ch p/p and trade quarterly figures are %ch q/q, annualized\\n\\n                                                                                                      2013               2014               2014\\n                                                              2010     2011        2012       2013      Q3      Q4      Q1    Q2             Feb    Mar     Apr    May      Jun      Jul   Aug    Sep      Oct    Nov\\n        Exports, nominal, US$, S.A.\\n         World                                                22.0        19.2       0.2        2.0     3.2     9.4    -3.3      5.6         -0.7     3.0    2.9     4.2     3.7 6.3        1.2    3.0     -0.8   -4.0\\n           High Income Countries                              19.4        18.6      -1.1        1.3     4.2     7.7    -0.8      3.6          2.3     5.3    3.8     4.3     2.8 5.4       -0.2    1.1     -2.7   -5.6\\n           Developing Countries                               28.5        20.7       3.3        3.5     1.1    13.2    -8.7     10.1         -7.4    -2.1    1.0     4.0     5.7 8.2        4.3    7.5      3.7   -0.4\\n            East Asia and Pacific                             30.8        19.7       6.1        6.0    -3.4    21.7    -9.6     13.5        -12.7    -3.5    1.9     4.9     7.7 11.7       8.5   13.7      9.6    4.0\\n            Europe and Central Asia                           15.6        20.3      -0.2       -0.3    13.0     6.3     5.4     -4.0          2.5     8.9    3.4     6.3     5.3 6.7       -4.5   -0.9     -5.5   -8.6\\n            Latin America and Caribbean                       28.4        23.3       1.6        0.6     1.0     4.0   -11.5      9.8          2.3    -3.1   -0.9     0.8     1.6 5.5       -0.9   -0.6     -4.7   -9.5\\n            Middle East and N. Africa                         24.4        15.1       2.2          -       -       -       -        -            -       -      -       -       -    -         -      -        -      -\\n            South Asia                                        34.3        31.6      -1.8        6.2    43.1     1.3   -16.0      9.0         -3.5     1.1    3.7     9.1     9.4 3.4        1.0   -1.3     -5.7    7.0\\n            Sub-Saharan Africa                                34.4        18.3      -1.5       -0.2   -13.3    -8.0    -6.8      5.5         -3.6    -6.3   -8.8    -6.8    -2.1 -6.8      -4.6   -2.6        -      -\\n        Imports, nominal, US$, S.A.\\n         World                                                25.6        23.4      6.9        6.0     -2.3     6.8    -9.6      1.6         -2.3    -2.0    0.6    -4.1     0.4 3.6       -1.4   -2.5     -7.5   -5.0\\n           High Income Countries                              17.9        17.8     -1.0        0.3      6.9     8.0     2.7      2.4          2.6     7.6    4.4     4.3     6.3 5.6        0.2    1.8     -3.6   -6.0\\n           Developing Countries                               35.6        29.9     14.9       11.0     -9.0     5.8   -18.7      1.0         -6.3    -9.3   -2.3   -10.5    -4.3 2.0       -2.7   -6.0    -10.7   -4.2\\n            East Asia and Pacific                             37.3        24.2      5.6        5.8      6.7     5.1    -1.2    -12.9          6.3   -10.5   -2.2    -3.8     3.5 -2.7      -1.0    6.7      3.1   -5.5\\n            Europe and Central Asia                           20.6        27.1     -0.2        2.9      6.3     4.8   -14.5     -6.6         -4.2    -0.9   -6.1    -2.0    -0.5 -7.2      -4.2   -4.9     -7.3   -7.9\\n            Latin America and Caribbean                    '"
      ]
     },
     "execution_count": 4,
     "metadata": {},
     "output_type": "execute_result"
    }
   ],
   "source": [
    "df.doc_text[0]"
   ]
  },
  {
   "cell_type": "code",
   "execution_count": 5,
   "metadata": {},
   "outputs": [
    {
     "data": {
      "text/plain": [
       "37560"
      ]
     },
     "execution_count": 5,
     "metadata": {},
     "output_type": "execute_result"
    }
   ],
   "source": [
    "vectorizer = TfidfVectorizer(min_df=10, max_df=0.5)\n",
    "vectorizer.fit(df[\"doc_text\"])\n",
    "len(vectorizer.vocabulary_)"
   ]
  },
  {
   "cell_type": "code",
   "execution_count": 6,
   "metadata": {},
   "outputs": [
    {
     "data": {
      "text/plain": [
       "<18830x37560 sparse matrix of type '<class 'numpy.float64'>'\n",
       "\twith 10245656 stored elements in Compressed Sparse Row format>"
      ]
     },
     "execution_count": 6,
     "metadata": {},
     "output_type": "execute_result"
    }
   ],
   "source": [
    "train_vector = vectorizer.transform(df[\"doc_text\"])\n",
    "train_vector"
   ]
  },
  {
   "cell_type": "code",
   "execution_count": 7,
   "metadata": {},
   "outputs": [
    {
     "data": {
      "text/plain": [
       "37560"
      ]
     },
     "execution_count": 7,
     "metadata": {},
     "output_type": "execute_result"
    }
   ],
   "source": [
    "input_len = train_vector.shape[1]\n",
    "input_len"
   ]
  },
  {
   "cell_type": "code",
   "execution_count": 8,
   "metadata": {},
   "outputs": [],
   "source": [
    "X_train = train_vector.toarray()"
   ]
  },
  {
   "cell_type": "code",
   "execution_count": 9,
   "metadata": {},
   "outputs": [
    {
     "data": {
      "text/html": [
       "<div>\n",
       "<style scoped>\n",
       "    .dataframe tbody tr th:only-of-type {\n",
       "        vertical-align: middle;\n",
       "    }\n",
       "\n",
       "    .dataframe tbody tr th {\n",
       "        vertical-align: top;\n",
       "    }\n",
       "\n",
       "    .dataframe thead th {\n",
       "        text-align: right;\n",
       "    }\n",
       "</style>\n",
       "<table border=\"1\" class=\"dataframe\">\n",
       "  <thead>\n",
       "    <tr style=\"text-align: right;\">\n",
       "      <th></th>\n",
       "      <th>row_id</th>\n",
       "      <th>information_and_communication_technologies</th>\n",
       "      <th>governance</th>\n",
       "      <th>urban_development</th>\n",
       "      <th>law_and_development</th>\n",
       "      <th>public_sector_development</th>\n",
       "      <th>agriculture</th>\n",
       "      <th>communities_and_human_settlements</th>\n",
       "      <th>health_and_nutrition_and_population</th>\n",
       "      <th>culture_and_development</th>\n",
       "      <th>...</th>\n",
       "      <th>private_sector_development</th>\n",
       "      <th>informatics</th>\n",
       "      <th>energy</th>\n",
       "      <th>social_development</th>\n",
       "      <th>water_resources</th>\n",
       "      <th>education</th>\n",
       "      <th>transport</th>\n",
       "      <th>water_supply_and_sanitation</th>\n",
       "      <th>gender</th>\n",
       "      <th>infrastructure_economics_and_finance</th>\n",
       "    </tr>\n",
       "  </thead>\n",
       "  <tbody>\n",
       "    <tr>\n",
       "      <th>0</th>\n",
       "      <td>0</td>\n",
       "      <td>0</td>\n",
       "      <td>1</td>\n",
       "      <td>0</td>\n",
       "      <td>1</td>\n",
       "      <td>1</td>\n",
       "      <td>0</td>\n",
       "      <td>0</td>\n",
       "      <td>0</td>\n",
       "      <td>0</td>\n",
       "      <td>...</td>\n",
       "      <td>1</td>\n",
       "      <td>0</td>\n",
       "      <td>0</td>\n",
       "      <td>0</td>\n",
       "      <td>0</td>\n",
       "      <td>0</td>\n",
       "      <td>0</td>\n",
       "      <td>0</td>\n",
       "      <td>0</td>\n",
       "      <td>0</td>\n",
       "    </tr>\n",
       "    <tr>\n",
       "      <th>1</th>\n",
       "      <td>1</td>\n",
       "      <td>0</td>\n",
       "      <td>0</td>\n",
       "      <td>1</td>\n",
       "      <td>0</td>\n",
       "      <td>1</td>\n",
       "      <td>0</td>\n",
       "      <td>1</td>\n",
       "      <td>0</td>\n",
       "      <td>0</td>\n",
       "      <td>...</td>\n",
       "      <td>0</td>\n",
       "      <td>0</td>\n",
       "      <td>0</td>\n",
       "      <td>0</td>\n",
       "      <td>0</td>\n",
       "      <td>0</td>\n",
       "      <td>0</td>\n",
       "      <td>0</td>\n",
       "      <td>0</td>\n",
       "      <td>0</td>\n",
       "    </tr>\n",
       "    <tr>\n",
       "      <th>2</th>\n",
       "      <td>2</td>\n",
       "      <td>0</td>\n",
       "      <td>0</td>\n",
       "      <td>0</td>\n",
       "      <td>0</td>\n",
       "      <td>0</td>\n",
       "      <td>0</td>\n",
       "      <td>0</td>\n",
       "      <td>1</td>\n",
       "      <td>0</td>\n",
       "      <td>...</td>\n",
       "      <td>0</td>\n",
       "      <td>0</td>\n",
       "      <td>0</td>\n",
       "      <td>0</td>\n",
       "      <td>0</td>\n",
       "      <td>0</td>\n",
       "      <td>0</td>\n",
       "      <td>0</td>\n",
       "      <td>0</td>\n",
       "      <td>0</td>\n",
       "    </tr>\n",
       "    <tr>\n",
       "      <th>3</th>\n",
       "      <td>3</td>\n",
       "      <td>0</td>\n",
       "      <td>1</td>\n",
       "      <td>0</td>\n",
       "      <td>1</td>\n",
       "      <td>1</td>\n",
       "      <td>0</td>\n",
       "      <td>0</td>\n",
       "      <td>0</td>\n",
       "      <td>0</td>\n",
       "      <td>...</td>\n",
       "      <td>0</td>\n",
       "      <td>0</td>\n",
       "      <td>0</td>\n",
       "      <td>1</td>\n",
       "      <td>0</td>\n",
       "      <td>0</td>\n",
       "      <td>0</td>\n",
       "      <td>0</td>\n",
       "      <td>0</td>\n",
       "      <td>0</td>\n",
       "    </tr>\n",
       "    <tr>\n",
       "      <th>4</th>\n",
       "      <td>4</td>\n",
       "      <td>0</td>\n",
       "      <td>1</td>\n",
       "      <td>0</td>\n",
       "      <td>0</td>\n",
       "      <td>1</td>\n",
       "      <td>0</td>\n",
       "      <td>0</td>\n",
       "      <td>0</td>\n",
       "      <td>0</td>\n",
       "      <td>...</td>\n",
       "      <td>0</td>\n",
       "      <td>0</td>\n",
       "      <td>0</td>\n",
       "      <td>0</td>\n",
       "      <td>0</td>\n",
       "      <td>0</td>\n",
       "      <td>0</td>\n",
       "      <td>0</td>\n",
       "      <td>0</td>\n",
       "      <td>0</td>\n",
       "    </tr>\n",
       "  </tbody>\n",
       "</table>\n",
       "<p>5 rows × 30 columns</p>\n",
       "</div>"
      ],
      "text/plain": [
       "   row_id  information_and_communication_technologies  governance  \\\n",
       "0       0                                           0           1   \n",
       "1       1                                           0           0   \n",
       "2       2                                           0           0   \n",
       "3       3                                           0           1   \n",
       "4       4                                           0           1   \n",
       "\n",
       "   urban_development  law_and_development  public_sector_development  \\\n",
       "0                  0                    1                          1   \n",
       "1                  1                    0                          1   \n",
       "2                  0                    0                          0   \n",
       "3                  0                    1                          1   \n",
       "4                  0                    0                          1   \n",
       "\n",
       "   agriculture  communities_and_human_settlements  \\\n",
       "0            0                                  0   \n",
       "1            0                                  1   \n",
       "2            0                                  0   \n",
       "3            0                                  0   \n",
       "4            0                                  0   \n",
       "\n",
       "   health_and_nutrition_and_population  culture_and_development  ...  \\\n",
       "0                                    0                        0  ...   \n",
       "1                                    0                        0  ...   \n",
       "2                                    1                        0  ...   \n",
       "3                                    0                        0  ...   \n",
       "4                                    0                        0  ...   \n",
       "\n",
       "   private_sector_development  informatics  energy  social_development  \\\n",
       "0                           1            0       0                   0   \n",
       "1                           0            0       0                   0   \n",
       "2                           0            0       0                   0   \n",
       "3                           0            0       0                   1   \n",
       "4                           0            0       0                   0   \n",
       "\n",
       "   water_resources  education  transport  water_supply_and_sanitation  gender  \\\n",
       "0                0          0          0                            0       0   \n",
       "1                0          0          0                            0       0   \n",
       "2                0          0          0                            0       0   \n",
       "3                0          0          0                            0       0   \n",
       "4                0          0          0                            0       0   \n",
       "\n",
       "   infrastructure_economics_and_finance  \n",
       "0                                     0  \n",
       "1                                     0  \n",
       "2                                     0  \n",
       "3                                     0  \n",
       "4                                     0  \n",
       "\n",
       "[5 rows x 30 columns]"
      ]
     },
     "execution_count": 9,
     "metadata": {},
     "output_type": "execute_result"
    }
   ],
   "source": [
    "df = pd.read_csv(\"train_labels.csv\")\n",
    "df.head()"
   ]
  },
  {
   "cell_type": "code",
   "execution_count": 10,
   "metadata": {},
   "outputs": [],
   "source": [
    "y_train = np.array(df.iloc[:,1:])"
   ]
  },
  {
   "cell_type": "code",
   "execution_count": 11,
   "metadata": {},
   "outputs": [],
   "source": [
    "from sklearn.model_selection import train_test_split"
   ]
  },
  {
   "cell_type": "code",
   "execution_count": 12,
   "metadata": {},
   "outputs": [],
   "source": [
    "X_1, X_2, y_1, y_2 = train_test_split(X_train, y_train, test_size=0.05)"
   ]
  },
  {
   "cell_type": "code",
   "execution_count": 13,
   "metadata": {},
   "outputs": [
    {
     "name": "stdout",
     "output_type": "stream",
     "text": [
      "Train on 18830 samples, validate on 942 samples\n",
      "Epoch 1/9\n",
      "18830/18830 [==============================] - 73s 4ms/step - loss: 0.4121 - acc: 0.8800 - val_loss: 0.2994 - val_acc: 0.8966\n",
      "Epoch 2/9\n",
      "18830/18830 [==============================] - 71s 4ms/step - loss: 0.2754 - acc: 0.9007 - val_loss: 0.2514 - val_acc: 0.9056\n",
      "Epoch 3/9\n",
      "18830/18830 [==============================] - 71s 4ms/step - loss: 0.2335 - acc: 0.9121 - val_loss: 0.2166 - val_acc: 0.9172\n",
      "Epoch 4/9\n",
      "18830/18830 [==============================] - 70s 4ms/step - loss: 0.2039 - acc: 0.9233 - val_loss: 0.1925 - val_acc: 0.9270\n",
      "Epoch 5/9\n",
      "18830/18830 [==============================] - 71s 4ms/step - loss: 0.1830 - acc: 0.9307 - val_loss: 0.1743 - val_acc: 0.9335\n",
      "Epoch 6/9\n",
      "18830/18830 [==============================] - 67s 4ms/step - loss: 0.1667 - acc: 0.9364 - val_loss: 0.1591 - val_acc: 0.9384\n",
      "Epoch 7/9\n",
      "18830/18830 [==============================] - 119s 6ms/step - loss: 0.1528 - acc: 0.9412 - val_loss: 0.1459 - val_acc: 0.9441\n",
      "Epoch 8/9\n",
      "18830/18830 [==============================] - 71s 4ms/step - loss: 0.1400 - acc: 0.9463 - val_loss: 0.1335 - val_acc: 0.9492\n",
      "Epoch 9/9\n",
      "18830/18830 [==============================] - 82s 4ms/step - loss: 0.1282 - acc: 0.9514 - val_loss: 0.1215 - val_acc: 0.9550\n"
     ]
    },
    {
     "data": {
      "text/plain": [
       "<keras.callbacks.History at 0x1248c9fa0>"
      ]
     },
     "execution_count": 13,
     "metadata": {},
     "output_type": "execute_result"
    }
   ],
   "source": [
    "model = Sequential()\n",
    "model.add(Dense(900, activation=\"relu\", input_shape=(input_len,)))\n",
    "model.add(Dense(29, activation=\"sigmoid\"))\n",
    "model.compile(optimizer=\"adam\", loss=\"binary_crossentropy\", metrics=[\"accuracy\"])\n",
    "model.fit(X_train, y_train, validation_data=(X_2, y_2), epochs=9, batch_size=500)"
   ]
  },
  {
   "cell_type": "code",
   "execution_count": 14,
   "metadata": {},
   "outputs": [],
   "source": [
    "df = pd.read_csv(\"test_values.csv\")\n",
    "test_vector = vectorizer.transform(df[\"doc_text\"])\n",
    "X_submit = test_vector.toarray()"
   ]
  },
  {
   "cell_type": "code",
   "execution_count": 15,
   "metadata": {},
   "outputs": [
    {
     "name": "stdout",
     "output_type": "stream",
     "text": [
      "0.01 0.30200156985871274\n",
      "0.02 0.3698654924905\n",
      "0.03 0.4281812451852371\n",
      "0.04 0.4772940808017539\n",
      "0.05 0.5188420692017814\n",
      "0.06 0.5565410199556542\n",
      "0.07 0.5879352623835212\n",
      "0.08 0.6152733285109021\n",
      "0.09 0.6385685027487334\n",
      "0.1 0.6569065713008493\n",
      "0.11 0.6760009257116408\n",
      "0.12 0.6938239159001314\n",
      "0.13 0.7077378018728437\n",
      "0.14 0.7184074587375584\n",
      "0.15 0.729708837928369\n",
      "0.16 0.7381794368041913\n",
      "0.17 0.7486331510868116\n",
      "0.18 0.7574028796522684\n",
      "0.19 0.7637719177136546\n",
      "0.2 0.7694682194471727\n",
      "0.21 0.7758128921848259\n",
      "0.22 0.7820049182699262\n",
      "0.23 0.7879143443825168\n",
      "0.24 0.7928061831153389\n",
      "0.25 0.7967455175531113\n",
      "0.26 0.79945180447693\n",
      "0.27 0.8022215365627893\n",
      "0.28 0.8053042121684867\n",
      "0.29 0.8058527375707991\n",
      "0.3 0.8047036389639282\n",
      "0.31 0.8060995184590689\n",
      "0.32 0.8063420158550396\n",
      "0.33 0.8067199478062306\n",
      "0.34 0.8070406316828426\n",
      "0.35 0.8079734219269102\n",
      "0.36 0.808695652173913\n",
      "0.37 0.8071537033912602\n",
      "0.38 0.8061883713022782\n",
      "0.39 0.8023355658595227\n",
      "0.4 0.8031822898650984\n",
      "0.41 0.7995817357964448\n",
      "0.42 0.7958538299367534\n",
      "0.43 0.7925531914893617\n",
      "0.44 0.7895677027509825\n",
      "0.45 0.7869971264367817\n",
      "0.46 0.7849520708988968\n",
      "0.47 0.7827353851757421\n",
      "0.48 0.7791017415215399\n",
      "0.49 0.7760973810402065\n",
      "0.5 0.7716301522465652\n",
      "0.51 0.7672768023907358\n",
      "0.52 0.761528326745718\n",
      "0.53 0.7575757575757576\n",
      "0.54 0.7511916110581507\n",
      "0.55 0.740026980150318\n",
      "0.56 0.734757281553398\n",
      "0.57 0.7284820031298904\n",
      "0.58 0.7230769230769232\n",
      "0.59 0.7184079601990049\n",
      "0.6 0.7127403846153846\n",
      "0.61 0.7044305077887922\n",
      "0.62 0.7004477004477004\n",
      "0.63 0.6940863515449152\n",
      "0.64 0.6889163576431809\n"
     ]
    }
   ],
   "source": [
    "from sklearn.metrics import f1_score\n",
    "y_pred = model.predict(X_2)\n",
    "for i in range(1, 65):\n",
    "    y_pred_bin = np.where(y_pred > (i / 100), 1, 0)\n",
    "    print(i/100, f1_score(y_2, y_pred_bin, average=\"micro\"))"
   ]
  },
  {
   "cell_type": "code",
   "execution_count": 16,
   "metadata": {},
   "outputs": [],
   "source": [
    "y_submit = model.predict(X_submit)"
   ]
  },
  {
   "cell_type": "code",
   "execution_count": 17,
   "metadata": {},
   "outputs": [],
   "source": [
    "## check cut-off value below\n",
    "y_submit_bin = np.where(y_submit > 0.31, 1, 0)"
   ]
  },
  {
   "cell_type": "code",
   "execution_count": 18,
   "metadata": {},
   "outputs": [
    {
     "data": {
      "text/html": [
       "<div>\n",
       "<style scoped>\n",
       "    .dataframe tbody tr th:only-of-type {\n",
       "        vertical-align: middle;\n",
       "    }\n",
       "\n",
       "    .dataframe tbody tr th {\n",
       "        vertical-align: top;\n",
       "    }\n",
       "\n",
       "    .dataframe thead th {\n",
       "        text-align: right;\n",
       "    }\n",
       "</style>\n",
       "<table border=\"1\" class=\"dataframe\">\n",
       "  <thead>\n",
       "    <tr style=\"text-align: right;\">\n",
       "      <th></th>\n",
       "      <th>row_id</th>\n",
       "      <th>information_and_communication_technologies</th>\n",
       "      <th>governance</th>\n",
       "      <th>urban_development</th>\n",
       "      <th>law_and_development</th>\n",
       "      <th>public_sector_development</th>\n",
       "      <th>agriculture</th>\n",
       "      <th>communities_and_human_settlements</th>\n",
       "      <th>health_and_nutrition_and_population</th>\n",
       "      <th>culture_and_development</th>\n",
       "      <th>...</th>\n",
       "      <th>private_sector_development</th>\n",
       "      <th>informatics</th>\n",
       "      <th>energy</th>\n",
       "      <th>social_development</th>\n",
       "      <th>water_resources</th>\n",
       "      <th>education</th>\n",
       "      <th>transport</th>\n",
       "      <th>water_supply_and_sanitation</th>\n",
       "      <th>gender</th>\n",
       "      <th>infrastructure_economics_and_finance</th>\n",
       "    </tr>\n",
       "  </thead>\n",
       "  <tbody>\n",
       "    <tr>\n",
       "      <th>0</th>\n",
       "      <td>0</td>\n",
       "      <td>1</td>\n",
       "      <td>1</td>\n",
       "      <td>1</td>\n",
       "      <td>1</td>\n",
       "      <td>1</td>\n",
       "      <td>1</td>\n",
       "      <td>1</td>\n",
       "      <td>1</td>\n",
       "      <td>1</td>\n",
       "      <td>...</td>\n",
       "      <td>1</td>\n",
       "      <td>1</td>\n",
       "      <td>1</td>\n",
       "      <td>1</td>\n",
       "      <td>1</td>\n",
       "      <td>1</td>\n",
       "      <td>1</td>\n",
       "      <td>1</td>\n",
       "      <td>1</td>\n",
       "      <td>1</td>\n",
       "    </tr>\n",
       "    <tr>\n",
       "      <th>1</th>\n",
       "      <td>1</td>\n",
       "      <td>1</td>\n",
       "      <td>1</td>\n",
       "      <td>1</td>\n",
       "      <td>1</td>\n",
       "      <td>1</td>\n",
       "      <td>1</td>\n",
       "      <td>1</td>\n",
       "      <td>1</td>\n",
       "      <td>1</td>\n",
       "      <td>...</td>\n",
       "      <td>1</td>\n",
       "      <td>1</td>\n",
       "      <td>1</td>\n",
       "      <td>1</td>\n",
       "      <td>1</td>\n",
       "      <td>1</td>\n",
       "      <td>1</td>\n",
       "      <td>1</td>\n",
       "      <td>1</td>\n",
       "      <td>1</td>\n",
       "    </tr>\n",
       "    <tr>\n",
       "      <th>2</th>\n",
       "      <td>2</td>\n",
       "      <td>1</td>\n",
       "      <td>1</td>\n",
       "      <td>1</td>\n",
       "      <td>1</td>\n",
       "      <td>1</td>\n",
       "      <td>1</td>\n",
       "      <td>1</td>\n",
       "      <td>1</td>\n",
       "      <td>1</td>\n",
       "      <td>...</td>\n",
       "      <td>1</td>\n",
       "      <td>1</td>\n",
       "      <td>1</td>\n",
       "      <td>1</td>\n",
       "      <td>1</td>\n",
       "      <td>1</td>\n",
       "      <td>1</td>\n",
       "      <td>1</td>\n",
       "      <td>1</td>\n",
       "      <td>1</td>\n",
       "    </tr>\n",
       "    <tr>\n",
       "      <th>3</th>\n",
       "      <td>3</td>\n",
       "      <td>1</td>\n",
       "      <td>1</td>\n",
       "      <td>1</td>\n",
       "      <td>1</td>\n",
       "      <td>1</td>\n",
       "      <td>1</td>\n",
       "      <td>1</td>\n",
       "      <td>1</td>\n",
       "      <td>1</td>\n",
       "      <td>...</td>\n",
       "      <td>1</td>\n",
       "      <td>1</td>\n",
       "      <td>1</td>\n",
       "      <td>1</td>\n",
       "      <td>1</td>\n",
       "      <td>1</td>\n",
       "      <td>1</td>\n",
       "      <td>1</td>\n",
       "      <td>1</td>\n",
       "      <td>1</td>\n",
       "    </tr>\n",
       "    <tr>\n",
       "      <th>4</th>\n",
       "      <td>4</td>\n",
       "      <td>1</td>\n",
       "      <td>1</td>\n",
       "      <td>1</td>\n",
       "      <td>1</td>\n",
       "      <td>1</td>\n",
       "      <td>1</td>\n",
       "      <td>1</td>\n",
       "      <td>1</td>\n",
       "      <td>1</td>\n",
       "      <td>...</td>\n",
       "      <td>1</td>\n",
       "      <td>1</td>\n",
       "      <td>1</td>\n",
       "      <td>1</td>\n",
       "      <td>1</td>\n",
       "      <td>1</td>\n",
       "      <td>1</td>\n",
       "      <td>1</td>\n",
       "      <td>1</td>\n",
       "      <td>1</td>\n",
       "    </tr>\n",
       "  </tbody>\n",
       "</table>\n",
       "<p>5 rows × 30 columns</p>\n",
       "</div>"
      ],
      "text/plain": [
       "   row_id  information_and_communication_technologies  governance  \\\n",
       "0       0                                           1           1   \n",
       "1       1                                           1           1   \n",
       "2       2                                           1           1   \n",
       "3       3                                           1           1   \n",
       "4       4                                           1           1   \n",
       "\n",
       "   urban_development  law_and_development  public_sector_development  \\\n",
       "0                  1                    1                          1   \n",
       "1                  1                    1                          1   \n",
       "2                  1                    1                          1   \n",
       "3                  1                    1                          1   \n",
       "4                  1                    1                          1   \n",
       "\n",
       "   agriculture  communities_and_human_settlements  \\\n",
       "0            1                                  1   \n",
       "1            1                                  1   \n",
       "2            1                                  1   \n",
       "3            1                                  1   \n",
       "4            1                                  1   \n",
       "\n",
       "   health_and_nutrition_and_population  culture_and_development  ...  \\\n",
       "0                                    1                        1  ...   \n",
       "1                                    1                        1  ...   \n",
       "2                                    1                        1  ...   \n",
       "3                                    1                        1  ...   \n",
       "4                                    1                        1  ...   \n",
       "\n",
       "   private_sector_development  informatics  energy  social_development  \\\n",
       "0                           1            1       1                   1   \n",
       "1                           1            1       1                   1   \n",
       "2                           1            1       1                   1   \n",
       "3                           1            1       1                   1   \n",
       "4                           1            1       1                   1   \n",
       "\n",
       "   water_resources  education  transport  water_supply_and_sanitation  gender  \\\n",
       "0                1          1          1                            1       1   \n",
       "1                1          1          1                            1       1   \n",
       "2                1          1          1                            1       1   \n",
       "3                1          1          1                            1       1   \n",
       "4                1          1          1                            1       1   \n",
       "\n",
       "   infrastructure_economics_and_finance  \n",
       "0                                     1  \n",
       "1                                     1  \n",
       "2                                     1  \n",
       "3                                     1  \n",
       "4                                     1  \n",
       "\n",
       "[5 rows x 30 columns]"
      ]
     },
     "execution_count": 18,
     "metadata": {},
     "output_type": "execute_result"
    }
   ],
   "source": [
    "df2 = pd.read_csv(\"submission_format.csv\")\n",
    "df2.head()"
   ]
  },
  {
   "cell_type": "code",
   "execution_count": 19,
   "metadata": {},
   "outputs": [
    {
     "data": {
      "text/plain": [
       "(18831, 30)"
      ]
     },
     "execution_count": 19,
     "metadata": {},
     "output_type": "execute_result"
    }
   ],
   "source": [
    "df2.shape"
   ]
  },
  {
   "cell_type": "code",
   "execution_count": 20,
   "metadata": {},
   "outputs": [],
   "source": [
    "y_submit_bin2 = np.column_stack((np.array(df2.row_id).reshape(18831,1), y_submit_bin))"
   ]
  },
  {
   "cell_type": "code",
   "execution_count": 21,
   "metadata": {},
   "outputs": [],
   "source": [
    "subdf = pd.DataFrame(data=y_submit_bin2, columns=df2.columns, index=None)"
   ]
  },
  {
   "cell_type": "code",
   "execution_count": 22,
   "metadata": {},
   "outputs": [],
   "source": [
    "subdf.to_csv(\"submission15.csv\", index=False)"
   ]
  },
  {
   "cell_type": "code",
   "execution_count": 23,
   "metadata": {},
   "outputs": [],
   "source": [
    "#F1 = 0.6611"
   ]
  }
 ],
 "metadata": {
  "kernelspec": {
   "display_name": "Python 3",
   "language": "python",
   "name": "python3"
  },
  "language_info": {
   "codemirror_mode": {
    "name": "ipython",
    "version": 3
   },
   "file_extension": ".py",
   "mimetype": "text/x-python",
   "name": "python",
   "nbconvert_exporter": "python",
   "pygments_lexer": "ipython3",
   "version": "3.8.1"
  }
 },
 "nbformat": 4,
 "nbformat_minor": 2
}
