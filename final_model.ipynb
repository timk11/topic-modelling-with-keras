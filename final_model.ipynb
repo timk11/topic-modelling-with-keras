{
 "cells": [
  {
   "cell_type": "markdown",
   "metadata": {},
   "source": [
    "This is still a work in progress, so comments are not yet complete."
   ]
  },
  {
   "cell_type": "code",
   "execution_count": 1,
   "metadata": {},
   "outputs": [],
   "source": [
    "from sklearn.feature_extraction.text import TfidfVectorizer\n",
    "import pandas as pd\n",
    "import numpy as np"
   ]
  },
  {
   "cell_type": "code",
   "execution_count": 2,
   "metadata": {},
   "outputs": [],
   "source": [
    "import keras\n",
    "from keras.models import Sequential\n",
    "from keras.layers import Dense"
   ]
  },
  {
   "cell_type": "code",
   "execution_count": 3,
   "metadata": {},
   "outputs": [
    {
     "data": {
      "text/html": [
       "<div>\n",
       "<style scoped>\n",
       "    .dataframe tbody tr th:only-of-type {\n",
       "        vertical-align: middle;\n",
       "    }\n",
       "\n",
       "    .dataframe tbody tr th {\n",
       "        vertical-align: top;\n",
       "    }\n",
       "\n",
       "    .dataframe thead th {\n",
       "        text-align: right;\n",
       "    }\n",
       "</style>\n",
       "<table border=\"1\" class=\"dataframe\">\n",
       "  <thead>\n",
       "    <tr style=\"text-align: right;\">\n",
       "      <th></th>\n",
       "      <th>row_id</th>\n",
       "      <th>doc_text</th>\n",
       "    </tr>\n",
       "  </thead>\n",
       "  <tbody>\n",
       "    <tr>\n",
       "      <th>0</th>\n",
       "      <td>0</td>\n",
       "      <td>For more information, visit http://www.wor...</td>\n",
       "    </tr>\n",
       "    <tr>\n",
       "      <th>1</th>\n",
       "      <td>1</td>\n",
       "      <td>...</td>\n",
       "    </tr>\n",
       "    <tr>\n",
       "      <th>2</th>\n",
       "      <td>2</td>\n",
       "      <td>...</td>\n",
       "    </tr>\n",
       "    <tr>\n",
       "      <th>3</th>\n",
       "      <td>3</td>\n",
       "      <td>71399\\n\\nProcur...</td>\n",
       "    </tr>\n",
       "    <tr>\n",
       "      <th>4</th>\n",
       "      <td>4</td>\n",
       "      <td>90189\\n\\n\\n\\n\\nExecu...</td>\n",
       "    </tr>\n",
       "  </tbody>\n",
       "</table>\n",
       "</div>"
      ],
      "text/plain": [
       "   row_id                                           doc_text\n",
       "0       0      For more information, visit http://www.wor...\n",
       "1       1                                                ...\n",
       "2       2                                                ...\n",
       "3       3                                 71399\\n\\nProcur...\n",
       "4       4                            90189\\n\\n\\n\\n\\nExecu..."
      ]
     },
     "execution_count": 3,
     "metadata": {},
     "output_type": "execute_result"
    }
   ],
   "source": [
    "df = pd.read_csv(\"train_values.csv\")\n",
    "df.head()"
   ]
  },
  {
   "cell_type": "code",
   "execution_count": 4,
   "metadata": {},
   "outputs": [
    {
     "data": {
      "text/plain": [
       "'    For more information, visit http://www.worldbank.org/prospects                                                                  98944\\n\\n    Taking Stock\\n   ECB unveiled 1.1 trillion asset-purchase program. The European Central Bank announced it will inject about 1.1\\n    trillion ($1.3 trillion) into financial markets through an asset-purchase program in a bid to counter weaker than expected\\n    inflation dynamics. Beginning March this year, the ECB will buy a total of 60 billion ($69 billion) a month of public and\\n    private sector securities until end-September 2016. These purchases may continue beyond September 2016 unless there\\n    are clear signs of a sustained adjustment in the path of infl ation towards ECBs target of close to 2 percent. Following\\n    the announcement, European stocks rallied, while the euro weakened to an 11-year low against the dollar.\\n\\n   World Bank released its January 2015 Commodity Markets Outlook. Prices of most commodities are expected to\\n    continue declining in 2015. Due to the continued growth in unconventional oil production, decline in demand, and\\n    appreciation of the U.S. dollar, oil prices are expected to average $53 in 2015, 45 percent'"
      ]
     },
     "execution_count": 4,
     "metadata": {},
     "output_type": "execute_result"
    }
   ],
   "source": [
    "df.doc_text[0][:1200] # Full document is 19782 characters long"
   ]
  },
  {
   "cell_type": "code",
   "execution_count": 5,
   "metadata": {},
   "outputs": [
    {
     "data": {
      "text/plain": [
       "37560"
      ]
     },
     "execution_count": 5,
     "metadata": {},
     "output_type": "execute_result"
    }
   ],
   "source": [
    "vectorizer = TfidfVectorizer(min_df=10, max_df=0.5)\n",
    "vectorizer.fit(df[\"doc_text\"])\n",
    "len(vectorizer.vocabulary_)"
   ]
  },
  {
   "cell_type": "code",
   "execution_count": 6,
   "metadata": {},
   "outputs": [
    {
     "data": {
      "text/plain": [
       "<18830x37560 sparse matrix of type '<class 'numpy.float64'>'\n",
       "\twith 10245656 stored elements in Compressed Sparse Row format>"
      ]
     },
     "execution_count": 6,
     "metadata": {},
     "output_type": "execute_result"
    }
   ],
   "source": [
    "train_vector = vectorizer.transform(df[\"doc_text\"])\n",
    "train_vector"
   ]
  },
  {
   "cell_type": "code",
   "execution_count": 7,
   "metadata": {},
   "outputs": [
    {
     "data": {
      "text/plain": [
       "37560"
      ]
     },
     "execution_count": 7,
     "metadata": {},
     "output_type": "execute_result"
    }
   ],
   "source": [
    "input_len = train_vector.shape[1]\n",
    "input_len"
   ]
  },
  {
   "cell_type": "code",
   "execution_count": 8,
   "metadata": {},
   "outputs": [],
   "source": [
    "X_train = train_vector.toarray()"
   ]
  },
  {
   "cell_type": "code",
   "execution_count": 9,
   "metadata": {},
   "outputs": [
    {
     "data": {
      "text/html": [
       "<div>\n",
       "<style scoped>\n",
       "    .dataframe tbody tr th:only-of-type {\n",
       "        vertical-align: middle;\n",
       "    }\n",
       "\n",
       "    .dataframe tbody tr th {\n",
       "        vertical-align: top;\n",
       "    }\n",
       "\n",
       "    .dataframe thead th {\n",
       "        text-align: right;\n",
       "    }\n",
       "</style>\n",
       "<table border=\"1\" class=\"dataframe\">\n",
       "  <thead>\n",
       "    <tr style=\"text-align: right;\">\n",
       "      <th></th>\n",
       "      <th>row_id</th>\n",
       "      <th>information_and_communication_technologies</th>\n",
       "      <th>governance</th>\n",
       "      <th>urban_development</th>\n",
       "      <th>law_and_development</th>\n",
       "      <th>public_sector_development</th>\n",
       "      <th>agriculture</th>\n",
       "      <th>communities_and_human_settlements</th>\n",
       "      <th>health_and_nutrition_and_population</th>\n",
       "      <th>culture_and_development</th>\n",
       "      <th>...</th>\n",
       "      <th>private_sector_development</th>\n",
       "      <th>informatics</th>\n",
       "      <th>energy</th>\n",
       "      <th>social_development</th>\n",
       "      <th>water_resources</th>\n",
       "      <th>education</th>\n",
       "      <th>transport</th>\n",
       "      <th>water_supply_and_sanitation</th>\n",
       "      <th>gender</th>\n",
       "      <th>infrastructure_economics_and_finance</th>\n",
       "    </tr>\n",
       "  </thead>\n",
       "  <tbody>\n",
       "    <tr>\n",
       "      <th>0</th>\n",
       "      <td>0</td>\n",
       "      <td>0</td>\n",
       "      <td>1</td>\n",
       "      <td>0</td>\n",
       "      <td>1</td>\n",
       "      <td>1</td>\n",
       "      <td>0</td>\n",
       "      <td>0</td>\n",
       "      <td>0</td>\n",
       "      <td>0</td>\n",
       "      <td>...</td>\n",
       "      <td>1</td>\n",
       "      <td>0</td>\n",
       "      <td>0</td>\n",
       "      <td>0</td>\n",
       "      <td>0</td>\n",
       "      <td>0</td>\n",
       "      <td>0</td>\n",
       "      <td>0</td>\n",
       "      <td>0</td>\n",
       "      <td>0</td>\n",
       "    </tr>\n",
       "    <tr>\n",
       "      <th>1</th>\n",
       "      <td>1</td>\n",
       "      <td>0</td>\n",
       "      <td>0</td>\n",
       "      <td>1</td>\n",
       "      <td>0</td>\n",
       "      <td>1</td>\n",
       "      <td>0</td>\n",
       "      <td>1</td>\n",
       "      <td>0</td>\n",
       "      <td>0</td>\n",
       "      <td>...</td>\n",
       "      <td>0</td>\n",
       "      <td>0</td>\n",
       "      <td>0</td>\n",
       "      <td>0</td>\n",
       "      <td>0</td>\n",
       "      <td>0</td>\n",
       "      <td>0</td>\n",
       "      <td>0</td>\n",
       "      <td>0</td>\n",
       "      <td>0</td>\n",
       "    </tr>\n",
       "    <tr>\n",
       "      <th>2</th>\n",
       "      <td>2</td>\n",
       "      <td>0</td>\n",
       "      <td>0</td>\n",
       "      <td>0</td>\n",
       "      <td>0</td>\n",
       "      <td>0</td>\n",
       "      <td>0</td>\n",
       "      <td>0</td>\n",
       "      <td>1</td>\n",
       "      <td>0</td>\n",
       "      <td>...</td>\n",
       "      <td>0</td>\n",
       "      <td>0</td>\n",
       "      <td>0</td>\n",
       "      <td>0</td>\n",
       "      <td>0</td>\n",
       "      <td>0</td>\n",
       "      <td>0</td>\n",
       "      <td>0</td>\n",
       "      <td>0</td>\n",
       "      <td>0</td>\n",
       "    </tr>\n",
       "    <tr>\n",
       "      <th>3</th>\n",
       "      <td>3</td>\n",
       "      <td>0</td>\n",
       "      <td>1</td>\n",
       "      <td>0</td>\n",
       "      <td>1</td>\n",
       "      <td>1</td>\n",
       "      <td>0</td>\n",
       "      <td>0</td>\n",
       "      <td>0</td>\n",
       "      <td>0</td>\n",
       "      <td>...</td>\n",
       "      <td>0</td>\n",
       "      <td>0</td>\n",
       "      <td>0</td>\n",
       "      <td>1</td>\n",
       "      <td>0</td>\n",
       "      <td>0</td>\n",
       "      <td>0</td>\n",
       "      <td>0</td>\n",
       "      <td>0</td>\n",
       "      <td>0</td>\n",
       "    </tr>\n",
       "    <tr>\n",
       "      <th>4</th>\n",
       "      <td>4</td>\n",
       "      <td>0</td>\n",
       "      <td>1</td>\n",
       "      <td>0</td>\n",
       "      <td>0</td>\n",
       "      <td>1</td>\n",
       "      <td>0</td>\n",
       "      <td>0</td>\n",
       "      <td>0</td>\n",
       "      <td>0</td>\n",
       "      <td>...</td>\n",
       "      <td>0</td>\n",
       "      <td>0</td>\n",
       "      <td>0</td>\n",
       "      <td>0</td>\n",
       "      <td>0</td>\n",
       "      <td>0</td>\n",
       "      <td>0</td>\n",
       "      <td>0</td>\n",
       "      <td>0</td>\n",
       "      <td>0</td>\n",
       "    </tr>\n",
       "  </tbody>\n",
       "</table>\n",
       "<p>5 rows × 30 columns</p>\n",
       "</div>"
      ],
      "text/plain": [
       "   row_id  information_and_communication_technologies  governance  \\\n",
       "0       0                                           0           1   \n",
       "1       1                                           0           0   \n",
       "2       2                                           0           0   \n",
       "3       3                                           0           1   \n",
       "4       4                                           0           1   \n",
       "\n",
       "   urban_development  law_and_development  public_sector_development  \\\n",
       "0                  0                    1                          1   \n",
       "1                  1                    0                          1   \n",
       "2                  0                    0                          0   \n",
       "3                  0                    1                          1   \n",
       "4                  0                    0                          1   \n",
       "\n",
       "   agriculture  communities_and_human_settlements  \\\n",
       "0            0                                  0   \n",
       "1            0                                  1   \n",
       "2            0                                  0   \n",
       "3            0                                  0   \n",
       "4            0                                  0   \n",
       "\n",
       "   health_and_nutrition_and_population  culture_and_development  ...  \\\n",
       "0                                    0                        0  ...   \n",
       "1                                    0                        0  ...   \n",
       "2                                    1                        0  ...   \n",
       "3                                    0                        0  ...   \n",
       "4                                    0                        0  ...   \n",
       "\n",
       "   private_sector_development  informatics  energy  social_development  \\\n",
       "0                           1            0       0                   0   \n",
       "1                           0            0       0                   0   \n",
       "2                           0            0       0                   0   \n",
       "3                           0            0       0                   1   \n",
       "4                           0            0       0                   0   \n",
       "\n",
       "   water_resources  education  transport  water_supply_and_sanitation  gender  \\\n",
       "0                0          0          0                            0       0   \n",
       "1                0          0          0                            0       0   \n",
       "2                0          0          0                            0       0   \n",
       "3                0          0          0                            0       0   \n",
       "4                0          0          0                            0       0   \n",
       "\n",
       "   infrastructure_economics_and_finance  \n",
       "0                                     0  \n",
       "1                                     0  \n",
       "2                                     0  \n",
       "3                                     0  \n",
       "4                                     0  \n",
       "\n",
       "[5 rows x 30 columns]"
      ]
     },
     "execution_count": 9,
     "metadata": {},
     "output_type": "execute_result"
    }
   ],
   "source": [
    "df = pd.read_csv(\"train_labels.csv\")\n",
    "df.head()"
   ]
  },
  {
   "cell_type": "code",
   "execution_count": 10,
   "metadata": {},
   "outputs": [],
   "source": [
    "y_train = np.array(df.iloc[:,1:])"
   ]
  },
  {
   "cell_type": "code",
   "execution_count": 11,
   "metadata": {},
   "outputs": [],
   "source": [
    "from sklearn.model_selection import train_test_split"
   ]
  },
  {
   "cell_type": "code",
   "execution_count": 12,
   "metadata": {},
   "outputs": [],
   "source": [
    "X_1, X_2, y_1, y_2 = train_test_split(X_train, y_train, test_size=0.05)"
   ]
  },
  {
   "cell_type": "code",
   "execution_count": 13,
   "metadata": {},
   "outputs": [
    {
     "name": "stdout",
     "output_type": "stream",
     "text": [
      "Train on 18830 samples, validate on 942 samples\n",
      "Epoch 1/9\n",
      "18830/18830 [==============================] - 73s 4ms/step - loss: 0.4121 - acc: 0.8800 - val_loss: 0.2994 - val_acc: 0.8966\n",
      "Epoch 2/9\n",
      "18830/18830 [==============================] - 71s 4ms/step - loss: 0.2754 - acc: 0.9007 - val_loss: 0.2514 - val_acc: 0.9056\n",
      "Epoch 3/9\n",
      "18830/18830 [==============================] - 71s 4ms/step - loss: 0.2335 - acc: 0.9121 - val_loss: 0.2166 - val_acc: 0.9172\n",
      "Epoch 4/9\n",
      "18830/18830 [==============================] - 70s 4ms/step - loss: 0.2039 - acc: 0.9233 - val_loss: 0.1925 - val_acc: 0.9270\n",
      "Epoch 5/9\n",
      "18830/18830 [==============================] - 71s 4ms/step - loss: 0.1830 - acc: 0.9307 - val_loss: 0.1743 - val_acc: 0.9335\n",
      "Epoch 6/9\n",
      "18830/18830 [==============================] - 67s 4ms/step - loss: 0.1667 - acc: 0.9364 - val_loss: 0.1591 - val_acc: 0.9384\n",
      "Epoch 7/9\n",
      "18830/18830 [==============================] - 119s 6ms/step - loss: 0.1528 - acc: 0.9412 - val_loss: 0.1459 - val_acc: 0.9441\n",
      "Epoch 8/9\n",
      "18830/18830 [==============================] - 71s 4ms/step - loss: 0.1400 - acc: 0.9463 - val_loss: 0.1335 - val_acc: 0.9492\n",
      "Epoch 9/9\n",
      "18830/18830 [==============================] - 82s 4ms/step - loss: 0.1282 - acc: 0.9514 - val_loss: 0.1215 - val_acc: 0.9550\n"
     ]
    },
    {
     "data": {
      "text/plain": [
       "<keras.callbacks.History at 0x1248c9fa0>"
      ]
     },
     "execution_count": 13,
     "metadata": {},
     "output_type": "execute_result"
    }
   ],
   "source": [
    "model = Sequential()\n",
    "model.add(Dense(900, activation=\"relu\", input_shape=(input_len,)))\n",
    "model.add(Dense(29, activation=\"sigmoid\"))\n",
    "model.compile(optimizer=\"adam\", loss=\"binary_crossentropy\", metrics=[\"accuracy\"])\n",
    "model.fit(X_train, y_train, validation_data=(X_2, y_2), epochs=9, batch_size=500)"
   ]
  },
  {
   "cell_type": "code",
   "execution_count": 14,
   "metadata": {},
   "outputs": [],
   "source": [
    "df = pd.read_csv(\"test_values.csv\")\n",
    "test_vector = vectorizer.transform(df[\"doc_text\"])\n",
    "X_submit = test_vector.toarray()"
   ]
  },
  {
   "cell_type": "code",
   "execution_count": 15,
   "metadata": {},
   "outputs": [
    {
     "name": "stdout",
     "output_type": "stream",
     "text": [
      "0.01 0.30200156985871274\n",
      "0.02 0.3698654924905\n",
      "0.03 0.4281812451852371\n",
      "0.04 0.4772940808017539\n",
      "0.05 0.5188420692017814\n",
      "0.06 0.5565410199556542\n",
      "0.07 0.5879352623835212\n",
      "0.08 0.6152733285109021\n",
      "0.09 0.6385685027487334\n",
      "0.1 0.6569065713008493\n",
      "0.11 0.6760009257116408\n",
      "0.12 0.6938239159001314\n",
      "0.13 0.7077378018728437\n",
      "0.14 0.7184074587375584\n",
      "0.15 0.729708837928369\n",
      "0.16 0.7381794368041913\n",
      "0.17 0.7486331510868116\n",
      "0.18 0.7574028796522684\n",
      "0.19 0.7637719177136546\n",
      "0.2 0.7694682194471727\n",
      "0.21 0.7758128921848259\n",
      "0.22 0.7820049182699262\n",
      "0.23 0.7879143443825168\n",
      "0.24 0.7928061831153389\n",
      "0.25 0.7967455175531113\n",
      "0.26 0.79945180447693\n",
      "0.27 0.8022215365627893\n",
      "0.28 0.8053042121684867\n",
      "0.29 0.8058527375707991\n",
      "0.3 0.8047036389639282\n",
      "0.31 0.8060995184590689\n",
      "0.32 0.8063420158550396\n",
      "0.33 0.8067199478062306\n",
      "0.34 0.8070406316828426\n",
      "0.35 0.8079734219269102\n",
      "0.36 0.808695652173913\n",
      "0.37 0.8071537033912602\n",
      "0.38 0.8061883713022782\n",
      "0.39 0.8023355658595227\n",
      "0.4 0.8031822898650984\n",
      "0.41 0.7995817357964448\n",
      "0.42 0.7958538299367534\n",
      "0.43 0.7925531914893617\n",
      "0.44 0.7895677027509825\n",
      "0.45 0.7869971264367817\n",
      "0.46 0.7849520708988968\n",
      "0.47 0.7827353851757421\n",
      "0.48 0.7791017415215399\n",
      "0.49 0.7760973810402065\n",
      "0.5 0.7716301522465652\n",
      "0.51 0.7672768023907358\n",
      "0.52 0.761528326745718\n",
      "0.53 0.7575757575757576\n",
      "0.54 0.7511916110581507\n",
      "0.55 0.740026980150318\n",
      "0.56 0.734757281553398\n",
      "0.57 0.7284820031298904\n",
      "0.58 0.7230769230769232\n",
      "0.59 0.7184079601990049\n",
      "0.6 0.7127403846153846\n",
      "0.61 0.7044305077887922\n",
      "0.62 0.7004477004477004\n",
      "0.63 0.6940863515449152\n",
      "0.64 0.6889163576431809\n"
     ]
    }
   ],
   "source": [
    "from sklearn.metrics import f1_score\n",
    "y_pred = model.predict(X_2)\n",
    "for i in range(1, 65):\n",
    "    y_pred_bin = np.where(y_pred > (i / 100), 1, 0)\n",
    "    print(i/100, f1_score(y_2, y_pred_bin, average=\"micro\"))"
   ]
  },
  {
   "cell_type": "code",
   "execution_count": 16,
   "metadata": {},
   "outputs": [],
   "source": [
    "y_submit = model.predict(X_submit)"
   ]
  },
  {
   "cell_type": "code",
   "execution_count": 17,
   "metadata": {},
   "outputs": [],
   "source": [
    "## check cut-off value below\n",
    "y_submit_bin = np.where(y_submit > 0.31, 1, 0)"
   ]
  },
  {
   "cell_type": "code",
   "execution_count": 18,
   "metadata": {},
   "outputs": [
    {
     "data": {
      "text/html": [
       "<div>\n",
       "<style scoped>\n",
       "    .dataframe tbody tr th:only-of-type {\n",
       "        vertical-align: middle;\n",
       "    }\n",
       "\n",
       "    .dataframe tbody tr th {\n",
       "        vertical-align: top;\n",
       "    }\n",
       "\n",
       "    .dataframe thead th {\n",
       "        text-align: right;\n",
       "    }\n",
       "</style>\n",
       "<table border=\"1\" class=\"dataframe\">\n",
       "  <thead>\n",
       "    <tr style=\"text-align: right;\">\n",
       "      <th></th>\n",
       "      <th>row_id</th>\n",
       "      <th>information_and_communication_technologies</th>\n",
       "      <th>governance</th>\n",
       "      <th>urban_development</th>\n",
       "      <th>law_and_development</th>\n",
       "      <th>public_sector_development</th>\n",
       "      <th>agriculture</th>\n",
       "      <th>communities_and_human_settlements</th>\n",
       "      <th>health_and_nutrition_and_population</th>\n",
       "      <th>culture_and_development</th>\n",
       "      <th>...</th>\n",
       "      <th>private_sector_development</th>\n",
       "      <th>informatics</th>\n",
       "      <th>energy</th>\n",
       "      <th>social_development</th>\n",
       "      <th>water_resources</th>\n",
       "      <th>education</th>\n",
       "      <th>transport</th>\n",
       "      <th>water_supply_and_sanitation</th>\n",
       "      <th>gender</th>\n",
       "      <th>infrastructure_economics_and_finance</th>\n",
       "    </tr>\n",
       "  </thead>\n",
       "  <tbody>\n",
       "    <tr>\n",
       "      <th>0</th>\n",
       "      <td>0</td>\n",
       "      <td>1</td>\n",
       "      <td>1</td>\n",
       "      <td>1</td>\n",
       "      <td>1</td>\n",
       "      <td>1</td>\n",
       "      <td>1</td>\n",
       "      <td>1</td>\n",
       "      <td>1</td>\n",
       "      <td>1</td>\n",
       "      <td>...</td>\n",
       "      <td>1</td>\n",
       "      <td>1</td>\n",
       "      <td>1</td>\n",
       "      <td>1</td>\n",
       "      <td>1</td>\n",
       "      <td>1</td>\n",
       "      <td>1</td>\n",
       "      <td>1</td>\n",
       "      <td>1</td>\n",
       "      <td>1</td>\n",
       "    </tr>\n",
       "    <tr>\n",
       "      <th>1</th>\n",
       "      <td>1</td>\n",
       "      <td>1</td>\n",
       "      <td>1</td>\n",
       "      <td>1</td>\n",
       "      <td>1</td>\n",
       "      <td>1</td>\n",
       "      <td>1</td>\n",
       "      <td>1</td>\n",
       "      <td>1</td>\n",
       "      <td>1</td>\n",
       "      <td>...</td>\n",
       "      <td>1</td>\n",
       "      <td>1</td>\n",
       "      <td>1</td>\n",
       "      <td>1</td>\n",
       "      <td>1</td>\n",
       "      <td>1</td>\n",
       "      <td>1</td>\n",
       "      <td>1</td>\n",
       "      <td>1</td>\n",
       "      <td>1</td>\n",
       "    </tr>\n",
       "    <tr>\n",
       "      <th>2</th>\n",
       "      <td>2</td>\n",
       "      <td>1</td>\n",
       "      <td>1</td>\n",
       "      <td>1</td>\n",
       "      <td>1</td>\n",
       "      <td>1</td>\n",
       "      <td>1</td>\n",
       "      <td>1</td>\n",
       "      <td>1</td>\n",
       "      <td>1</td>\n",
       "      <td>...</td>\n",
       "      <td>1</td>\n",
       "      <td>1</td>\n",
       "      <td>1</td>\n",
       "      <td>1</td>\n",
       "      <td>1</td>\n",
       "      <td>1</td>\n",
       "      <td>1</td>\n",
       "      <td>1</td>\n",
       "      <td>1</td>\n",
       "      <td>1</td>\n",
       "    </tr>\n",
       "    <tr>\n",
       "      <th>3</th>\n",
       "      <td>3</td>\n",
       "      <td>1</td>\n",
       "      <td>1</td>\n",
       "      <td>1</td>\n",
       "      <td>1</td>\n",
       "      <td>1</td>\n",
       "      <td>1</td>\n",
       "      <td>1</td>\n",
       "      <td>1</td>\n",
       "      <td>1</td>\n",
       "      <td>...</td>\n",
       "      <td>1</td>\n",
       "      <td>1</td>\n",
       "      <td>1</td>\n",
       "      <td>1</td>\n",
       "      <td>1</td>\n",
       "      <td>1</td>\n",
       "      <td>1</td>\n",
       "      <td>1</td>\n",
       "      <td>1</td>\n",
       "      <td>1</td>\n",
       "    </tr>\n",
       "    <tr>\n",
       "      <th>4</th>\n",
       "      <td>4</td>\n",
       "      <td>1</td>\n",
       "      <td>1</td>\n",
       "      <td>1</td>\n",
       "      <td>1</td>\n",
       "      <td>1</td>\n",
       "      <td>1</td>\n",
       "      <td>1</td>\n",
       "      <td>1</td>\n",
       "      <td>1</td>\n",
       "      <td>...</td>\n",
       "      <td>1</td>\n",
       "      <td>1</td>\n",
       "      <td>1</td>\n",
       "      <td>1</td>\n",
       "      <td>1</td>\n",
       "      <td>1</td>\n",
       "      <td>1</td>\n",
       "      <td>1</td>\n",
       "      <td>1</td>\n",
       "      <td>1</td>\n",
       "    </tr>\n",
       "  </tbody>\n",
       "</table>\n",
       "<p>5 rows × 30 columns</p>\n",
       "</div>"
      ],
      "text/plain": [
       "   row_id  information_and_communication_technologies  governance  \\\n",
       "0       0                                           1           1   \n",
       "1       1                                           1           1   \n",
       "2       2                                           1           1   \n",
       "3       3                                           1           1   \n",
       "4       4                                           1           1   \n",
       "\n",
       "   urban_development  law_and_development  public_sector_development  \\\n",
       "0                  1                    1                          1   \n",
       "1                  1                    1                          1   \n",
       "2                  1                    1                          1   \n",
       "3                  1                    1                          1   \n",
       "4                  1                    1                          1   \n",
       "\n",
       "   agriculture  communities_and_human_settlements  \\\n",
       "0            1                                  1   \n",
       "1            1                                  1   \n",
       "2            1                                  1   \n",
       "3            1                                  1   \n",
       "4            1                                  1   \n",
       "\n",
       "   health_and_nutrition_and_population  culture_and_development  ...  \\\n",
       "0                                    1                        1  ...   \n",
       "1                                    1                        1  ...   \n",
       "2                                    1                        1  ...   \n",
       "3                                    1                        1  ...   \n",
       "4                                    1                        1  ...   \n",
       "\n",
       "   private_sector_development  informatics  energy  social_development  \\\n",
       "0                           1            1       1                   1   \n",
       "1                           1            1       1                   1   \n",
       "2                           1            1       1                   1   \n",
       "3                           1            1       1                   1   \n",
       "4                           1            1       1                   1   \n",
       "\n",
       "   water_resources  education  transport  water_supply_and_sanitation  gender  \\\n",
       "0                1          1          1                            1       1   \n",
       "1                1          1          1                            1       1   \n",
       "2                1          1          1                            1       1   \n",
       "3                1          1          1                            1       1   \n",
       "4                1          1          1                            1       1   \n",
       "\n",
       "   infrastructure_economics_and_finance  \n",
       "0                                     1  \n",
       "1                                     1  \n",
       "2                                     1  \n",
       "3                                     1  \n",
       "4                                     1  \n",
       "\n",
       "[5 rows x 30 columns]"
      ]
     },
     "execution_count": 18,
     "metadata": {},
     "output_type": "execute_result"
    }
   ],
   "source": [
    "df2 = pd.read_csv(\"submission_format.csv\")\n",
    "df2.head()"
   ]
  },
  {
   "cell_type": "code",
   "execution_count": 19,
   "metadata": {},
   "outputs": [
    {
     "data": {
      "text/plain": [
       "(18831, 30)"
      ]
     },
     "execution_count": 19,
     "metadata": {},
     "output_type": "execute_result"
    }
   ],
   "source": [
    "df2.shape"
   ]
  },
  {
   "cell_type": "code",
   "execution_count": 20,
   "metadata": {},
   "outputs": [],
   "source": [
    "y_submit_bin2 = np.column_stack((np.array(df2.row_id).reshape(18831,1), y_submit_bin))"
   ]
  },
  {
   "cell_type": "code",
   "execution_count": 21,
   "metadata": {},
   "outputs": [],
   "source": [
    "subdf = pd.DataFrame(data=y_submit_bin2, columns=df2.columns, index=None)"
   ]
  },
  {
   "cell_type": "code",
   "execution_count": 22,
   "metadata": {},
   "outputs": [],
   "source": [
    "subdf.to_csv(\"submission15.csv\", index=False)"
   ]
  },
  {
   "cell_type": "code",
   "execution_count": 23,
   "metadata": {},
   "outputs": [],
   "source": [
    "#F1 = 0.6611"
   ]
  }
 ],
 "metadata": {
  "kernelspec": {
   "display_name": "Python 3",
   "language": "python",
   "name": "python3"
  },
  "language_info": {
   "codemirror_mode": {
    "name": "ipython",
    "version": 3
   },
   "file_extension": ".py",
   "mimetype": "text/x-python",
   "name": "python",
   "nbconvert_exporter": "python",
   "pygments_lexer": "ipython3",
   "version": "3.8.1"
  }
 },
 "nbformat": 4,
 "nbformat_minor": 2
}
