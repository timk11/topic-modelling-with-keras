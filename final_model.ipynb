{
  "cells": [
    {
      "metadata": {},
      "cell_type": "markdown",
      "source": "## Identification of topics in World Bank articles\nThis model was originally constructed as a capstone project for the Microsoft Professional Certificate in Artificial Intelligence on EdX.\n\nThe task was to build a machine learning model that would learn to identify topics from a large selection of documents published by the World Bank. A list of 29 topics was provided, and documents could have any number of these topics attributed to them. A labelled dataset was provided for model construction and testing, and a separate unlabelled dataset was used for scoring the assignment.\n\nThe model I've constructed uses ScikitLearn's term frequency-inverse document frequency (TF-IDF) vectorizer. This tool calculates the ratio of the frequency of each word in a document to the proportion of documents in the entire set in which the word appears. Hence, it will tend to give a high score to words that appear frequently and uniquely in a given document, so presumably to words of high relevance to the document's topic.\n\nFirst we import the libraries and training dataset to be used."
    },
    {
      "metadata": {
        "trusted": false
      },
      "cell_type": "code",
      "source": "from sklearn.feature_extraction.text import TfidfVectorizer\nimport pandas as pd\nimport numpy as np",
      "execution_count": 1,
      "outputs": []
    },
    {
      "metadata": {
        "trusted": false
      },
      "cell_type": "code",
      "source": "import keras\nfrom keras.models import Sequential\nfrom keras.layers import Dense",
      "execution_count": 2,
      "outputs": []
    },
    {
      "metadata": {
        "trusted": false
      },
      "cell_type": "code",
      "source": "df = pd.read_csv(\"train_values.csv\")\ndf.head()",
      "execution_count": 3,
      "outputs": [
        {
          "data": {
            "text/html": "<div>\n<style scoped>\n    .dataframe tbody tr th:only-of-type {\n        vertical-align: middle;\n    }\n\n    .dataframe tbody tr th {\n        vertical-align: top;\n    }\n\n    .dataframe thead th {\n        text-align: right;\n    }\n</style>\n<table border=\"1\" class=\"dataframe\">\n  <thead>\n    <tr style=\"text-align: right;\">\n      <th></th>\n      <th>row_id</th>\n      <th>doc_text</th>\n    </tr>\n  </thead>\n  <tbody>\n    <tr>\n      <th>0</th>\n      <td>0</td>\n      <td>For more information, visit http://www.wor...</td>\n    </tr>\n    <tr>\n      <th>1</th>\n      <td>1</td>\n      <td>...</td>\n    </tr>\n    <tr>\n      <th>2</th>\n      <td>2</td>\n      <td>...</td>\n    </tr>\n    <tr>\n      <th>3</th>\n      <td>3</td>\n      <td>71399\\n\\nProcur...</td>\n    </tr>\n    <tr>\n      <th>4</th>\n      <td>4</td>\n      <td>90189\\n\\n\\n\\n\\nExecu...</td>\n    </tr>\n  </tbody>\n</table>\n</div>",
            "text/plain": "   row_id                                           doc_text\n0       0      For more information, visit http://www.wor...\n1       1                                                ...\n2       2                                                ...\n3       3                                 71399\\n\\nProcur...\n4       4                            90189\\n\\n\\n\\n\\nExecu..."
          },
          "execution_count": 3,
          "metadata": {},
          "output_type": "execute_result"
        }
      ]
    },
    {
      "metadata": {},
      "cell_type": "markdown",
      "source": "**This quick look** at the training set using df.head() is not very informative, so let's show the first few lines of one of the documents to get a feel for what we're looking at. The full document is 19782 characters long, so this is less than a tenth of it."
    },
    {
      "metadata": {
        "trusted": false
      },
      "cell_type": "code",
      "source": "df.doc_text[0][:1200] ",
      "execution_count": 4,
      "outputs": [
        {
          "data": {
            "text/plain": "'    For more information, visit http://www.worldbank.org/prospects                                                                  98944\\n\\n    Taking Stock\\n   ECB unveiled 1.1 trillion asset-purchase program. The European Central Bank announced it will inject about 1.1\\n    trillion ($1.3 trillion) into financial markets through an asset-purchase program in a bid to counter weaker than expected\\n    inflation dynamics. Beginning March this year, the ECB will buy a total of 60 billion ($69 billion) a month of public and\\n    private sector securities until end-September 2016. These purchases may continue beyond September 2016 unless there\\n    are clear signs of a sustained adjustment in the path of infl ation towards ECBs target of close to 2 percent. Following\\n    the announcement, European stocks rallied, while the euro weakened to an 11-year low against the dollar.\\n\\n   World Bank released its January 2015 Commodity Markets Outlook. Prices of most commodities are expected to\\n    continue declining in 2015. Due to the continued growth in unconventional oil production, decline in demand, and\\n    appreciation of the U.S. dollar, oil prices are expected to average $53 in 2015, 45 percent'"
          },
          "execution_count": 4,
          "metadata": {},
          "output_type": "execute_result"
        }
      ]
    },
    {
      "metadata": {},
      "cell_type": "markdown",
      "source": "**The code below** converts the training set into a matrix in which each row represents a document and each column represents a specific word or term, containing the TF-IDF score for each term in each document. The settings used will exclude words that appear in more than half the documents (max_df=0.5), so particularly including *stop words* such as \"the\", \"and\", \"not\", etc, as well as those appearing in less than 10 documents (min_df=10), which might include personal names or very obscure terms. The resulting matrix covers 18830 documents and a vocabulary of 37560 terms."
    },
    {
      "metadata": {
        "trusted": false
      },
      "cell_type": "code",
      "source": "vectorizer = TfidfVectorizer(min_df=10, max_df=0.5)\nvectorizer.fit(df[\"doc_text\"])\nlen(vectorizer.vocabulary_)",
      "execution_count": 5,
      "outputs": [
        {
          "data": {
            "text/plain": "37560"
          },
          "execution_count": 5,
          "metadata": {},
          "output_type": "execute_result"
        }
      ]
    },
    {
      "metadata": {
        "trusted": false
      },
      "cell_type": "code",
      "source": "train_vector = vectorizer.transform(df[\"doc_text\"])\ntrain_vector",
      "execution_count": 6,
      "outputs": [
        {
          "data": {
            "text/plain": "<18830x37560 sparse matrix of type '<class 'numpy.float64'>'\n\twith 10245656 stored elements in Compressed Sparse Row format>"
          },
          "execution_count": 6,
          "metadata": {},
          "output_type": "execute_result"
        }
      ]
    },
    {
      "metadata": {
        "trusted": false
      },
      "cell_type": "code",
      "source": "input_len = train_vector.shape[1]\ninput_len",
      "execution_count": 7,
      "outputs": [
        {
          "data": {
            "text/plain": "37560"
          },
          "execution_count": 7,
          "metadata": {},
          "output_type": "execute_result"
        }
      ]
    },
    {
      "metadata": {
        "trusted": false
      },
      "cell_type": "code",
      "source": "X_train = train_vector.toarray()",
      "execution_count": 8,
      "outputs": []
    },
    {
      "metadata": {
        "trusted": false
      },
      "cell_type": "code",
      "source": "df = pd.read_csv(\"train_labels.csv\")\ndf.head()",
      "execution_count": 9,
      "outputs": [
        {
          "data": {
            "text/html": "<div>\n<style scoped>\n    .dataframe tbody tr th:only-of-type {\n        vertical-align: middle;\n    }\n\n    .dataframe tbody tr th {\n        vertical-align: top;\n    }\n\n    .dataframe thead th {\n        text-align: right;\n    }\n</style>\n<table border=\"1\" class=\"dataframe\">\n  <thead>\n    <tr style=\"text-align: right;\">\n      <th></th>\n      <th>row_id</th>\n      <th>information_and_communication_technologies</th>\n      <th>governance</th>\n      <th>urban_development</th>\n      <th>law_and_development</th>\n      <th>public_sector_development</th>\n      <th>agriculture</th>\n      <th>communities_and_human_settlements</th>\n      <th>health_and_nutrition_and_population</th>\n      <th>culture_and_development</th>\n      <th>...</th>\n      <th>private_sector_development</th>\n      <th>informatics</th>\n      <th>energy</th>\n      <th>social_development</th>\n      <th>water_resources</th>\n      <th>education</th>\n      <th>transport</th>\n      <th>water_supply_and_sanitation</th>\n      <th>gender</th>\n      <th>infrastructure_economics_and_finance</th>\n    </tr>\n  </thead>\n  <tbody>\n    <tr>\n      <th>0</th>\n      <td>0</td>\n      <td>0</td>\n      <td>1</td>\n      <td>0</td>\n      <td>1</td>\n      <td>1</td>\n      <td>0</td>\n      <td>0</td>\n      <td>0</td>\n      <td>0</td>\n      <td>...</td>\n      <td>1</td>\n      <td>0</td>\n      <td>0</td>\n      <td>0</td>\n      <td>0</td>\n      <td>0</td>\n      <td>0</td>\n      <td>0</td>\n      <td>0</td>\n      <td>0</td>\n    </tr>\n    <tr>\n      <th>1</th>\n      <td>1</td>\n      <td>0</td>\n      <td>0</td>\n      <td>1</td>\n      <td>0</td>\n      <td>1</td>\n      <td>0</td>\n      <td>1</td>\n      <td>0</td>\n      <td>0</td>\n      <td>...</td>\n      <td>0</td>\n      <td>0</td>\n      <td>0</td>\n      <td>0</td>\n      <td>0</td>\n      <td>0</td>\n      <td>0</td>\n      <td>0</td>\n      <td>0</td>\n      <td>0</td>\n    </tr>\n    <tr>\n      <th>2</th>\n      <td>2</td>\n      <td>0</td>\n      <td>0</td>\n      <td>0</td>\n      <td>0</td>\n      <td>0</td>\n      <td>0</td>\n      <td>0</td>\n      <td>1</td>\n      <td>0</td>\n      <td>...</td>\n      <td>0</td>\n      <td>0</td>\n      <td>0</td>\n      <td>0</td>\n      <td>0</td>\n      <td>0</td>\n      <td>0</td>\n      <td>0</td>\n      <td>0</td>\n      <td>0</td>\n    </tr>\n    <tr>\n      <th>3</th>\n      <td>3</td>\n      <td>0</td>\n      <td>1</td>\n      <td>0</td>\n      <td>1</td>\n      <td>1</td>\n      <td>0</td>\n      <td>0</td>\n      <td>0</td>\n      <td>0</td>\n      <td>...</td>\n      <td>0</td>\n      <td>0</td>\n      <td>0</td>\n      <td>1</td>\n      <td>0</td>\n      <td>0</td>\n      <td>0</td>\n      <td>0</td>\n      <td>0</td>\n      <td>0</td>\n    </tr>\n    <tr>\n      <th>4</th>\n      <td>4</td>\n      <td>0</td>\n      <td>1</td>\n      <td>0</td>\n      <td>0</td>\n      <td>1</td>\n      <td>0</td>\n      <td>0</td>\n      <td>0</td>\n      <td>0</td>\n      <td>...</td>\n      <td>0</td>\n      <td>0</td>\n      <td>0</td>\n      <td>0</td>\n      <td>0</td>\n      <td>0</td>\n      <td>0</td>\n      <td>0</td>\n      <td>0</td>\n      <td>0</td>\n    </tr>\n  </tbody>\n</table>\n<p>5 rows × 30 columns</p>\n</div>",
            "text/plain": "   row_id  information_and_communication_technologies  governance  \\\n0       0                                           0           1   \n1       1                                           0           0   \n2       2                                           0           0   \n3       3                                           0           1   \n4       4                                           0           1   \n\n   urban_development  law_and_development  public_sector_development  \\\n0                  0                    1                          1   \n1                  1                    0                          1   \n2                  0                    0                          0   \n3                  0                    1                          1   \n4                  0                    0                          1   \n\n   agriculture  communities_and_human_settlements  \\\n0            0                                  0   \n1            0                                  1   \n2            0                                  0   \n3            0                                  0   \n4            0                                  0   \n\n   health_and_nutrition_and_population  culture_and_development  ...  \\\n0                                    0                        0  ...   \n1                                    0                        0  ...   \n2                                    1                        0  ...   \n3                                    0                        0  ...   \n4                                    0                        0  ...   \n\n   private_sector_development  informatics  energy  social_development  \\\n0                           1            0       0                   0   \n1                           0            0       0                   0   \n2                           0            0       0                   0   \n3                           0            0       0                   1   \n4                           0            0       0                   0   \n\n   water_resources  education  transport  water_supply_and_sanitation  gender  \\\n0                0          0          0                            0       0   \n1                0          0          0                            0       0   \n2                0          0          0                            0       0   \n3                0          0          0                            0       0   \n4                0          0          0                            0       0   \n\n   infrastructure_economics_and_finance  \n0                                     0  \n1                                     0  \n2                                     0  \n3                                     0  \n4                                     0  \n\n[5 rows x 30 columns]"
          },
          "execution_count": 9,
          "metadata": {},
          "output_type": "execute_result"
        }
      ]
    },
    {
      "metadata": {},
      "cell_type": "markdown",
      "source": "**In the resulting dataframe,** we see that some documents do indeed cover multiple topics. For this reason, *binary cross-entropy* is used as the loss function in the neural network below, instead of categorical cross-entropy. Rather than a multi-class classification, what we really have is a binary classification task in which we find a \"yes\" or \"no\" answer for the presence of each of the 29 topics in each of the documents. \n\nSeveral different neural network shapes were tested, and a single hidden layer of 900 nodes was found to give the best results. Keras conveniently gives accuracy and loss scores for each epoch of the training, so it is easy to run the model, check the scores and then run it again with the optimal number of epochs. The preferred metric for this is *val_acc*, which is the accuracy calculated on the unseen test set."
    },
    {
      "metadata": {
        "trusted": false
      },
      "cell_type": "code",
      "source": "y_train = np.array(df.iloc[:,1:])",
      "execution_count": 10,
      "outputs": []
    },
    {
      "metadata": {
        "trusted": false
      },
      "cell_type": "code",
      "source": "from sklearn.model_selection import train_test_split",
      "execution_count": 11,
      "outputs": []
    },
    {
      "metadata": {
        "trusted": false
      },
      "cell_type": "code",
      "source": "X_1, X_2, y_1, y_2 = train_test_split(X_train, y_train, test_size=0.05)",
      "execution_count": 12,
      "outputs": []
    },
    {
      "metadata": {
        "trusted": false
      },
      "cell_type": "code",
      "source": "model = Sequential()\nmodel.add(Dense(900, activation=\"relu\", input_shape=(input_len,)))\nmodel.add(Dense(29, activation=\"sigmoid\"))\nmodel.compile(optimizer=\"adam\", loss=\"binary_crossentropy\", metrics=[\"accuracy\"])\nmodel.fit(X_train, y_train, validation_data=(X_2, y_2), epochs=9, batch_size=500)",
      "execution_count": 13,
      "outputs": [
        {
          "name": "stdout",
          "output_type": "stream",
          "text": "Train on 18830 samples, validate on 942 samples\nEpoch 1/9\n18830/18830 [==============================] - 73s 4ms/step - loss: 0.4121 - acc: 0.8800 - val_loss: 0.2994 - val_acc: 0.8966\nEpoch 2/9\n18830/18830 [==============================] - 71s 4ms/step - loss: 0.2754 - acc: 0.9007 - val_loss: 0.2514 - val_acc: 0.9056\nEpoch 3/9\n18830/18830 [==============================] - 71s 4ms/step - loss: 0.2335 - acc: 0.9121 - val_loss: 0.2166 - val_acc: 0.9172\nEpoch 4/9\n18830/18830 [==============================] - 70s 4ms/step - loss: 0.2039 - acc: 0.9233 - val_loss: 0.1925 - val_acc: 0.9270\nEpoch 5/9\n18830/18830 [==============================] - 71s 4ms/step - loss: 0.1830 - acc: 0.9307 - val_loss: 0.1743 - val_acc: 0.9335\nEpoch 6/9\n18830/18830 [==============================] - 67s 4ms/step - loss: 0.1667 - acc: 0.9364 - val_loss: 0.1591 - val_acc: 0.9384\nEpoch 7/9\n18830/18830 [==============================] - 119s 6ms/step - loss: 0.1528 - acc: 0.9412 - val_loss: 0.1459 - val_acc: 0.9441\nEpoch 8/9\n18830/18830 [==============================] - 71s 4ms/step - loss: 0.1400 - acc: 0.9463 - val_loss: 0.1335 - val_acc: 0.9492\nEpoch 9/9\n18830/18830 [==============================] - 82s 4ms/step - loss: 0.1282 - acc: 0.9514 - val_loss: 0.1215 - val_acc: 0.9550\n"
        },
        {
          "data": {
            "text/plain": "<keras.callbacks.History at 0x1248c9fa0>"
          },
          "execution_count": 13,
          "metadata": {},
          "output_type": "execute_result"
        }
      ]
    },
    {
      "metadata": {},
      "cell_type": "markdown",
      "source": "**The output so far** is a series of probabilities, which we need to convert to ones and zeroes. The scoring metric used for assessing the model overall is the F1 score, which in the simplest case equals *2 x ((precision x recall)/(precision + recall))*. In this case we use a variation called the \"micro\" F1 score, which combines accuracy measurements across multiple classes to calculate a single score. Below we test the model by using a wide range of cut-off values for converting predicted probabilities into one or zero, and find which cut-off value gives the highest F1 score."
    },
    {
      "metadata": {
        "trusted": false
      },
      "cell_type": "code",
      "source": "df = pd.read_csv(\"test_values.csv\")\ntest_vector = vectorizer.transform(df[\"doc_text\"])\nX_submit = test_vector.toarray()",
      "execution_count": 14,
      "outputs": []
    },
    {
      "metadata": {
        "trusted": false
      },
      "cell_type": "code",
      "source": "from sklearn.metrics import f1_score\ny_pred = model.predict(X_2)\nfor i in range(1, 65):\n    y_pred_bin = np.where(y_pred > (i / 100), 1, 0)\n    print(i/100, f1_score(y_2, y_pred_bin, average=\"micro\"))",
      "execution_count": 15,
      "outputs": [
        {
          "name": "stdout",
          "output_type": "stream",
          "text": "0.01 0.30200156985871274\n0.02 0.3698654924905\n0.03 0.4281812451852371\n0.04 0.4772940808017539\n0.05 0.5188420692017814\n0.06 0.5565410199556542\n0.07 0.5879352623835212\n0.08 0.6152733285109021\n0.09 0.6385685027487334\n0.1 0.6569065713008493\n0.11 0.6760009257116408\n0.12 0.6938239159001314\n0.13 0.7077378018728437\n0.14 0.7184074587375584\n0.15 0.729708837928369\n0.16 0.7381794368041913\n0.17 0.7486331510868116\n0.18 0.7574028796522684\n0.19 0.7637719177136546\n0.2 0.7694682194471727\n0.21 0.7758128921848259\n0.22 0.7820049182699262\n0.23 0.7879143443825168\n0.24 0.7928061831153389\n0.25 0.7967455175531113\n0.26 0.79945180447693\n0.27 0.8022215365627893\n0.28 0.8053042121684867\n0.29 0.8058527375707991\n0.3 0.8047036389639282\n0.31 0.8060995184590689\n0.32 0.8063420158550396\n0.33 0.8067199478062306\n0.34 0.8070406316828426\n0.35 0.8079734219269102\n0.36 0.808695652173913\n0.37 0.8071537033912602\n0.38 0.8061883713022782\n0.39 0.8023355658595227\n0.4 0.8031822898650984\n0.41 0.7995817357964448\n0.42 0.7958538299367534\n0.43 0.7925531914893617\n0.44 0.7895677027509825\n0.45 0.7869971264367817\n0.46 0.7849520708988968\n0.47 0.7827353851757421\n0.48 0.7791017415215399\n0.49 0.7760973810402065\n0.5 0.7716301522465652\n0.51 0.7672768023907358\n0.52 0.761528326745718\n0.53 0.7575757575757576\n0.54 0.7511916110581507\n0.55 0.740026980150318\n0.56 0.734757281553398\n0.57 0.7284820031298904\n0.58 0.7230769230769232\n0.59 0.7184079601990049\n0.6 0.7127403846153846\n0.61 0.7044305077887922\n0.62 0.7004477004477004\n0.63 0.6940863515449152\n0.64 0.6889163576431809\n"
        }
      ]
    },
    {
      "metadata": {},
      "cell_type": "markdown",
      "source": "**The model is then fitted upon the submission dataset,** for which the labels are not made available to the course participants. The output is converted to ones and zeroes using the optimal cut-off value found above, and then submitted as a CSV file."
    },
    {
      "metadata": {
        "trusted": false
      },
      "cell_type": "code",
      "source": "y_submit = model.predict(X_submit)",
      "execution_count": 16,
      "outputs": []
    },
    {
      "metadata": {
        "trusted": false
      },
      "cell_type": "code",
      "source": "## check cut-off value below\ny_submit_bin = np.where(y_submit > 0.36, 1, 0)",
      "execution_count": 17,
      "outputs": []
    },
    {
      "metadata": {
        "trusted": false
      },
      "cell_type": "code",
      "source": "df2 = pd.read_csv(\"submission_format.csv\")\ndf2.head()",
      "execution_count": 18,
      "outputs": [
        {
          "data": {
            "text/html": "<div>\n<style scoped>\n    .dataframe tbody tr th:only-of-type {\n        vertical-align: middle;\n    }\n\n    .dataframe tbody tr th {\n        vertical-align: top;\n    }\n\n    .dataframe thead th {\n        text-align: right;\n    }\n</style>\n<table border=\"1\" class=\"dataframe\">\n  <thead>\n    <tr style=\"text-align: right;\">\n      <th></th>\n      <th>row_id</th>\n      <th>information_and_communication_technologies</th>\n      <th>governance</th>\n      <th>urban_development</th>\n      <th>law_and_development</th>\n      <th>public_sector_development</th>\n      <th>agriculture</th>\n      <th>communities_and_human_settlements</th>\n      <th>health_and_nutrition_and_population</th>\n      <th>culture_and_development</th>\n      <th>...</th>\n      <th>private_sector_development</th>\n      <th>informatics</th>\n      <th>energy</th>\n      <th>social_development</th>\n      <th>water_resources</th>\n      <th>education</th>\n      <th>transport</th>\n      <th>water_supply_and_sanitation</th>\n      <th>gender</th>\n      <th>infrastructure_economics_and_finance</th>\n    </tr>\n  </thead>\n  <tbody>\n    <tr>\n      <th>0</th>\n      <td>0</td>\n      <td>1</td>\n      <td>1</td>\n      <td>1</td>\n      <td>1</td>\n      <td>1</td>\n      <td>1</td>\n      <td>1</td>\n      <td>1</td>\n      <td>1</td>\n      <td>...</td>\n      <td>1</td>\n      <td>1</td>\n      <td>1</td>\n      <td>1</td>\n      <td>1</td>\n      <td>1</td>\n      <td>1</td>\n      <td>1</td>\n      <td>1</td>\n      <td>1</td>\n    </tr>\n    <tr>\n      <th>1</th>\n      <td>1</td>\n      <td>1</td>\n      <td>1</td>\n      <td>1</td>\n      <td>1</td>\n      <td>1</td>\n      <td>1</td>\n      <td>1</td>\n      <td>1</td>\n      <td>1</td>\n      <td>...</td>\n      <td>1</td>\n      <td>1</td>\n      <td>1</td>\n      <td>1</td>\n      <td>1</td>\n      <td>1</td>\n      <td>1</td>\n      <td>1</td>\n      <td>1</td>\n      <td>1</td>\n    </tr>\n    <tr>\n      <th>2</th>\n      <td>2</td>\n      <td>1</td>\n      <td>1</td>\n      <td>1</td>\n      <td>1</td>\n      <td>1</td>\n      <td>1</td>\n      <td>1</td>\n      <td>1</td>\n      <td>1</td>\n      <td>...</td>\n      <td>1</td>\n      <td>1</td>\n      <td>1</td>\n      <td>1</td>\n      <td>1</td>\n      <td>1</td>\n      <td>1</td>\n      <td>1</td>\n      <td>1</td>\n      <td>1</td>\n    </tr>\n    <tr>\n      <th>3</th>\n      <td>3</td>\n      <td>1</td>\n      <td>1</td>\n      <td>1</td>\n      <td>1</td>\n      <td>1</td>\n      <td>1</td>\n      <td>1</td>\n      <td>1</td>\n      <td>1</td>\n      <td>...</td>\n      <td>1</td>\n      <td>1</td>\n      <td>1</td>\n      <td>1</td>\n      <td>1</td>\n      <td>1</td>\n      <td>1</td>\n      <td>1</td>\n      <td>1</td>\n      <td>1</td>\n    </tr>\n    <tr>\n      <th>4</th>\n      <td>4</td>\n      <td>1</td>\n      <td>1</td>\n      <td>1</td>\n      <td>1</td>\n      <td>1</td>\n      <td>1</td>\n      <td>1</td>\n      <td>1</td>\n      <td>1</td>\n      <td>...</td>\n      <td>1</td>\n      <td>1</td>\n      <td>1</td>\n      <td>1</td>\n      <td>1</td>\n      <td>1</td>\n      <td>1</td>\n      <td>1</td>\n      <td>1</td>\n      <td>1</td>\n    </tr>\n  </tbody>\n</table>\n<p>5 rows × 30 columns</p>\n</div>",
            "text/plain": "   row_id  information_and_communication_technologies  governance  \\\n0       0                                           1           1   \n1       1                                           1           1   \n2       2                                           1           1   \n3       3                                           1           1   \n4       4                                           1           1   \n\n   urban_development  law_and_development  public_sector_development  \\\n0                  1                    1                          1   \n1                  1                    1                          1   \n2                  1                    1                          1   \n3                  1                    1                          1   \n4                  1                    1                          1   \n\n   agriculture  communities_and_human_settlements  \\\n0            1                                  1   \n1            1                                  1   \n2            1                                  1   \n3            1                                  1   \n4            1                                  1   \n\n   health_and_nutrition_and_population  culture_and_development  ...  \\\n0                                    1                        1  ...   \n1                                    1                        1  ...   \n2                                    1                        1  ...   \n3                                    1                        1  ...   \n4                                    1                        1  ...   \n\n   private_sector_development  informatics  energy  social_development  \\\n0                           1            1       1                   1   \n1                           1            1       1                   1   \n2                           1            1       1                   1   \n3                           1            1       1                   1   \n4                           1            1       1                   1   \n\n   water_resources  education  transport  water_supply_and_sanitation  gender  \\\n0                1          1          1                            1       1   \n1                1          1          1                            1       1   \n2                1          1          1                            1       1   \n3                1          1          1                            1       1   \n4                1          1          1                            1       1   \n\n   infrastructure_economics_and_finance  \n0                                     1  \n1                                     1  \n2                                     1  \n3                                     1  \n4                                     1  \n\n[5 rows x 30 columns]"
          },
          "execution_count": 18,
          "metadata": {},
          "output_type": "execute_result"
        }
      ]
    },
    {
      "metadata": {
        "trusted": false
      },
      "cell_type": "code",
      "source": "df2.shape",
      "execution_count": 19,
      "outputs": [
        {
          "data": {
            "text/plain": "(18831, 30)"
          },
          "execution_count": 19,
          "metadata": {},
          "output_type": "execute_result"
        }
      ]
    },
    {
      "metadata": {
        "trusted": false
      },
      "cell_type": "code",
      "source": "y_submit_bin2 = np.column_stack((np.array(df2.row_id).reshape(18831,1), y_submit_bin))",
      "execution_count": 20,
      "outputs": []
    },
    {
      "metadata": {
        "trusted": false
      },
      "cell_type": "code",
      "source": "subdf = pd.DataFrame(data=y_submit_bin2, columns=df2.columns, index=None)",
      "execution_count": 21,
      "outputs": []
    },
    {
      "metadata": {
        "trusted": false
      },
      "cell_type": "code",
      "source": "subdf.to_csv(\"submission15.csv\", index=False)",
      "execution_count": 22,
      "outputs": []
    },
    {
      "metadata": {},
      "cell_type": "markdown",
      "source": "**The submitted CSV file** is scored automatically against the unseen labels, and multiple attempts were allowed. My best submission obtained an F1 score of 0.6611, which was in the top 6% of course participants."
    }
  ],
  "metadata": {
    "kernelspec": {
      "name": "python3",
      "display_name": "Python 3",
      "language": "python"
    },
    "language_info": {
      "mimetype": "text/x-python",
      "nbconvert_exporter": "python",
      "name": "python",
      "pygments_lexer": "ipython3",
      "version": "3.5.4",
      "file_extension": ".py",
      "codemirror_mode": {
        "version": 3,
        "name": "ipython"
      }
    }
  },
  "nbformat": 4,
  "nbformat_minor": 2
}
